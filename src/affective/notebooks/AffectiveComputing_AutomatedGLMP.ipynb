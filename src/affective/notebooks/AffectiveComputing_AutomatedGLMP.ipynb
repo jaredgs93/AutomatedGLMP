{
  "cells": [
    {
      "cell_type": "markdown",
      "metadata": {
        "colab_type": "text",
        "id": "view-in-github"
      },
      "source": [
        "<a href=\"https://colab.research.google.com/github/jaredgs93/AutomatedGLMP/blob/main/src/notebooks/AffectiveComputing_AutomatedGLMP.ipynb\" target=\"_parent\"><img src=\"https://colab.research.google.com/assets/colab-badge.svg\" alt=\"Open In Colab\"/></a>"
      ]
    },
    {
      "cell_type": "markdown",
      "metadata": {
        "id": "jSwkPiVkZmeV"
      },
      "source": [
        "# Automated Granular Linguistic Model of Phenomena (GLMP) generation"
      ]
    },
    {
      "cell_type": "markdown",
      "metadata": {
        "id": "7nQT3sPLzFmf"
      },
      "source": [
        "This notebook automates the generation of a Granular Linguistic Model of a Phenomenon (GLMP) by processing multimodal data (audio, text, and video measures). The primary goal is to construct hierarchical models that enhance explainability by breaking down complex behaviors into interpretable components. Using structured inputs and aggregation techniques, the notebook facilitates the creation and visualization of GLMPs to better understand human-centric phenomena."
      ]
    },
    {
      "cell_type": "markdown",
      "metadata": {
        "id": "DQsnF7sFZ7uC"
      },
      "source": [
        "## Preliminary"
      ]
    },
    {
      "cell_type": "markdown",
      "metadata": {
        "id": "EpkBNNA90fgj"
      },
      "source": [
        "The preliminary steps outline the foundation for automating the GLMP process. This includes defining the required resources, such as the OpenAI API and input files stored in a GitHub repository, as well as installing essential Python libraries like `openai` and `python-decouple`."
      ]
    },
    {
      "cell_type": "markdown",
      "metadata": {
        "id": "Ci5FpFLOcGHL"
      },
      "source": [
        "### Requirements"
      ]
    },
    {
      "cell_type": "markdown",
      "metadata": {
        "id": "NRBVJ_XYl24c"
      },
      "source": [
        "1. Files: The following files can be found at [https://github.com/jaredgs93/AutomatedGLMP.git](https://github.com/jaredgs93/AutomatedGLMP.git)\n",
        "\n",
        "*   `prompt.txt`: It includes the detailed description of the task to be performed by the model. It indicates that it will receive two JSON files, which are as follows:\n",
        "*   `measures.json`: Includes metrics obtained from a previously evaluated video.\n",
        "*   `decision_making_base.txt`: It is the initial JSON structure of a phenomenon to be represented, i.e. the highest level of granularity.\n",
        "\n",
        "2. An **OpenAI API Key** for accessing OpenAI services.\n",
        "\n",
        "  **How to Get Your OpenAI API Key**\n",
        "\n",
        "  * Go to the [OpenAI API Keys](https://platform.openai.com/account/api-keys) page.\n",
        "  * Sign in or create an OpenAI account if you don’t already have one.\n",
        "  * Click \"Create new secret key\" to generate a new API key.\n",
        "  * Create a .env file which will be uploaded.\n",
        "  * Copy the API key and paste it into the `OPENAI_API_KEY` field in your `.env` file."
      ]
    },
    {
      "cell_type": "markdown",
      "metadata": {
        "id": "yYhvhLKtacgL"
      },
      "source": [
        "### Installation of the necessary libraries\n",
        "\n",
        "\n",
        "*  `openai`: Official OpenAI library that allows interaction with its AI models. In this case, it is used to access the `o1` model, allowing to send specific requests for GLMP (General Language Model Pre-training) text generation or custom tasks according to the model's capabilities.\n",
        "*   `python-decouple`: A library that allows to manage sensitive settings, such as the OpenAI API key, from an .env file. This ensures that credentials are not included directly in the source code, improving security and facilitating the portability of the project.\n",
        "\n"
      ]
    },
    {
      "cell_type": "code",
      "execution_count": 1,
      "metadata": {
        "colab": {
          "base_uri": "https://localhost:8080/"
        },
        "collapsed": true,
        "id": "HBRSFm1jLO2T",
        "outputId": "5332ed2a-16a5-42ed-e140-e82ac239a278"
      },
      "outputs": [
        {
          "name": "stdout",
          "output_type": "stream",
          "text": [
            "Collecting python-decouple\n",
            "  Downloading python_decouple-3.8-py3-none-any.whl.metadata (14 kB)\n",
            "Downloading python_decouple-3.8-py3-none-any.whl (9.9 kB)\n",
            "Installing collected packages: python-decouple\n",
            "Successfully installed python-decouple-3.8\n",
            "Requirement already satisfied: openai in /usr/local/lib/python3.11/dist-packages (1.59.9)\n",
            "Requirement already satisfied: anyio<5,>=3.5.0 in /usr/local/lib/python3.11/dist-packages (from openai) (3.7.1)\n",
            "Requirement already satisfied: distro<2,>=1.7.0 in /usr/local/lib/python3.11/dist-packages (from openai) (1.9.0)\n",
            "Requirement already satisfied: httpx<1,>=0.23.0 in /usr/local/lib/python3.11/dist-packages (from openai) (0.28.1)\n",
            "Requirement already satisfied: jiter<1,>=0.4.0 in /usr/local/lib/python3.11/dist-packages (from openai) (0.8.2)\n",
            "Requirement already satisfied: pydantic<3,>=1.9.0 in /usr/local/lib/python3.11/dist-packages (from openai) (2.10.6)\n",
            "Requirement already satisfied: sniffio in /usr/local/lib/python3.11/dist-packages (from openai) (1.3.1)\n",
            "Requirement already satisfied: tqdm>4 in /usr/local/lib/python3.11/dist-packages (from openai) (4.67.1)\n",
            "Requirement already satisfied: typing-extensions<5,>=4.11 in /usr/local/lib/python3.11/dist-packages (from openai) (4.12.2)\n",
            "Requirement already satisfied: idna>=2.8 in /usr/local/lib/python3.11/dist-packages (from anyio<5,>=3.5.0->openai) (3.10)\n",
            "Requirement already satisfied: certifi in /usr/local/lib/python3.11/dist-packages (from httpx<1,>=0.23.0->openai) (2024.12.14)\n",
            "Requirement already satisfied: httpcore==1.* in /usr/local/lib/python3.11/dist-packages (from httpx<1,>=0.23.0->openai) (1.0.7)\n",
            "Requirement already satisfied: h11<0.15,>=0.13 in /usr/local/lib/python3.11/dist-packages (from httpcore==1.*->httpx<1,>=0.23.0->openai) (0.14.0)\n",
            "Requirement already satisfied: annotated-types>=0.6.0 in /usr/local/lib/python3.11/dist-packages (from pydantic<3,>=1.9.0->openai) (0.7.0)\n",
            "Requirement already satisfied: pydantic-core==2.27.2 in /usr/local/lib/python3.11/dist-packages (from pydantic<3,>=1.9.0->openai) (2.27.2)\n"
          ]
        }
      ],
      "source": [
        "!pip install python-decouple\n",
        "!pip install openai"
      ]
    },
    {
      "cell_type": "markdown",
      "metadata": {
        "id": "etcfj3XcldsZ"
      },
      "source": [
        "## Implementation of GLMP Generation using Model o1"
      ]
    },
    {
      "cell_type": "markdown",
      "metadata": {
        "id": "RW-r37_4meaT"
      },
      "source": [
        "The following code is responsible for setting up the environment to ensure that the GLMP generation process runs smoothly. Here's a step-by-step explanation of what it does:\n",
        "\n",
        "\n",
        "1. Prompt to Upload the `.env` File. The user is prompted to upload the `.env` file manually using `files.upload()`.\n",
        "2. Check and Save the Uploaded File. The code checks if the `.env` file was successfully uploaded. If it is, it saves the file in the current working directory under the name `.env`. If not, an error is raised, ensuring the process halts until the file is correctly provided.\n",
        "3. Load the `.env` File Using `python-decouple`. The `.env` file, which securely stores sensitive information like the OpenAI API key, is loaded using the `decouple` library. This ensures the credentials remain separate from the source code for security.\n",
        "4. Retrieve and Validate the API Key. The OpenAI API key is retrieved from the `.env` file. The code verifies if the key was successfully loaded and outputs a confirmation message. If the key is missing, it raises an error, ensuring the user knows there is an issue with the file or its contents.\n",
        "\n"
      ]
    },
    {
      "cell_type": "code",
      "execution_count": 2,
      "metadata": {
        "colab": {
          "base_uri": "https://localhost:8080/",
          "height": 120
        },
        "collapsed": true,
        "id": "Qf9tVLb4MW6b",
        "outputId": "9a555eaf-fe4c-42b9-ea83-9fff5f967aaa"
      },
      "outputs": [
        {
          "name": "stdout",
          "output_type": "stream",
          "text": [
            "Please upload your .env file:\n"
          ]
        },
        {
          "data": {
            "text/html": [
              "\n",
              "     <input type=\"file\" id=\"files-6963363d-c200-41ed-87f0-c7132009a1cf\" name=\"files[]\" multiple disabled\n",
              "        style=\"border:none\" />\n",
              "     <output id=\"result-6963363d-c200-41ed-87f0-c7132009a1cf\">\n",
              "      Upload widget is only available when the cell has been executed in the\n",
              "      current browser session. Please rerun this cell to enable.\n",
              "      </output>\n",
              "      <script>// Copyright 2017 Google LLC\n",
              "//\n",
              "// Licensed under the Apache License, Version 2.0 (the \"License\");\n",
              "// you may not use this file except in compliance with the License.\n",
              "// You may obtain a copy of the License at\n",
              "//\n",
              "//      http://www.apache.org/licenses/LICENSE-2.0\n",
              "//\n",
              "// Unless required by applicable law or agreed to in writing, software\n",
              "// distributed under the License is distributed on an \"AS IS\" BASIS,\n",
              "// WITHOUT WARRANTIES OR CONDITIONS OF ANY KIND, either express or implied.\n",
              "// See the License for the specific language governing permissions and\n",
              "// limitations under the License.\n",
              "\n",
              "/**\n",
              " * @fileoverview Helpers for google.colab Python module.\n",
              " */\n",
              "(function(scope) {\n",
              "function span(text, styleAttributes = {}) {\n",
              "  const element = document.createElement('span');\n",
              "  element.textContent = text;\n",
              "  for (const key of Object.keys(styleAttributes)) {\n",
              "    element.style[key] = styleAttributes[key];\n",
              "  }\n",
              "  return element;\n",
              "}\n",
              "\n",
              "// Max number of bytes which will be uploaded at a time.\n",
              "const MAX_PAYLOAD_SIZE = 100 * 1024;\n",
              "\n",
              "function _uploadFiles(inputId, outputId) {\n",
              "  const steps = uploadFilesStep(inputId, outputId);\n",
              "  const outputElement = document.getElementById(outputId);\n",
              "  // Cache steps on the outputElement to make it available for the next call\n",
              "  // to uploadFilesContinue from Python.\n",
              "  outputElement.steps = steps;\n",
              "\n",
              "  return _uploadFilesContinue(outputId);\n",
              "}\n",
              "\n",
              "// This is roughly an async generator (not supported in the browser yet),\n",
              "// where there are multiple asynchronous steps and the Python side is going\n",
              "// to poll for completion of each step.\n",
              "// This uses a Promise to block the python side on completion of each step,\n",
              "// then passes the result of the previous step as the input to the next step.\n",
              "function _uploadFilesContinue(outputId) {\n",
              "  const outputElement = document.getElementById(outputId);\n",
              "  const steps = outputElement.steps;\n",
              "\n",
              "  const next = steps.next(outputElement.lastPromiseValue);\n",
              "  return Promise.resolve(next.value.promise).then((value) => {\n",
              "    // Cache the last promise value to make it available to the next\n",
              "    // step of the generator.\n",
              "    outputElement.lastPromiseValue = value;\n",
              "    return next.value.response;\n",
              "  });\n",
              "}\n",
              "\n",
              "/**\n",
              " * Generator function which is called between each async step of the upload\n",
              " * process.\n",
              " * @param {string} inputId Element ID of the input file picker element.\n",
              " * @param {string} outputId Element ID of the output display.\n",
              " * @return {!Iterable<!Object>} Iterable of next steps.\n",
              " */\n",
              "function* uploadFilesStep(inputId, outputId) {\n",
              "  const inputElement = document.getElementById(inputId);\n",
              "  inputElement.disabled = false;\n",
              "\n",
              "  const outputElement = document.getElementById(outputId);\n",
              "  outputElement.innerHTML = '';\n",
              "\n",
              "  const pickedPromise = new Promise((resolve) => {\n",
              "    inputElement.addEventListener('change', (e) => {\n",
              "      resolve(e.target.files);\n",
              "    });\n",
              "  });\n",
              "\n",
              "  const cancel = document.createElement('button');\n",
              "  inputElement.parentElement.appendChild(cancel);\n",
              "  cancel.textContent = 'Cancel upload';\n",
              "  const cancelPromise = new Promise((resolve) => {\n",
              "    cancel.onclick = () => {\n",
              "      resolve(null);\n",
              "    };\n",
              "  });\n",
              "\n",
              "  // Wait for the user to pick the files.\n",
              "  const files = yield {\n",
              "    promise: Promise.race([pickedPromise, cancelPromise]),\n",
              "    response: {\n",
              "      action: 'starting',\n",
              "    }\n",
              "  };\n",
              "\n",
              "  cancel.remove();\n",
              "\n",
              "  // Disable the input element since further picks are not allowed.\n",
              "  inputElement.disabled = true;\n",
              "\n",
              "  if (!files) {\n",
              "    return {\n",
              "      response: {\n",
              "        action: 'complete',\n",
              "      }\n",
              "    };\n",
              "  }\n",
              "\n",
              "  for (const file of files) {\n",
              "    const li = document.createElement('li');\n",
              "    li.append(span(file.name, {fontWeight: 'bold'}));\n",
              "    li.append(span(\n",
              "        `(${file.type || 'n/a'}) - ${file.size} bytes, ` +\n",
              "        `last modified: ${\n",
              "            file.lastModifiedDate ? file.lastModifiedDate.toLocaleDateString() :\n",
              "                                    'n/a'} - `));\n",
              "    const percent = span('0% done');\n",
              "    li.appendChild(percent);\n",
              "\n",
              "    outputElement.appendChild(li);\n",
              "\n",
              "    const fileDataPromise = new Promise((resolve) => {\n",
              "      const reader = new FileReader();\n",
              "      reader.onload = (e) => {\n",
              "        resolve(e.target.result);\n",
              "      };\n",
              "      reader.readAsArrayBuffer(file);\n",
              "    });\n",
              "    // Wait for the data to be ready.\n",
              "    let fileData = yield {\n",
              "      promise: fileDataPromise,\n",
              "      response: {\n",
              "        action: 'continue',\n",
              "      }\n",
              "    };\n",
              "\n",
              "    // Use a chunked sending to avoid message size limits. See b/62115660.\n",
              "    let position = 0;\n",
              "    do {\n",
              "      const length = Math.min(fileData.byteLength - position, MAX_PAYLOAD_SIZE);\n",
              "      const chunk = new Uint8Array(fileData, position, length);\n",
              "      position += length;\n",
              "\n",
              "      const base64 = btoa(String.fromCharCode.apply(null, chunk));\n",
              "      yield {\n",
              "        response: {\n",
              "          action: 'append',\n",
              "          file: file.name,\n",
              "          data: base64,\n",
              "        },\n",
              "      };\n",
              "\n",
              "      let percentDone = fileData.byteLength === 0 ?\n",
              "          100 :\n",
              "          Math.round((position / fileData.byteLength) * 100);\n",
              "      percent.textContent = `${percentDone}% done`;\n",
              "\n",
              "    } while (position < fileData.byteLength);\n",
              "  }\n",
              "\n",
              "  // All done.\n",
              "  yield {\n",
              "    response: {\n",
              "      action: 'complete',\n",
              "    }\n",
              "  };\n",
              "}\n",
              "\n",
              "scope.google = scope.google || {};\n",
              "scope.google.colab = scope.google.colab || {};\n",
              "scope.google.colab._files = {\n",
              "  _uploadFiles,\n",
              "  _uploadFilesContinue,\n",
              "};\n",
              "})(self);\n",
              "</script> "
            ],
            "text/plain": [
              "<IPython.core.display.HTML object>"
            ]
          },
          "metadata": {},
          "output_type": "display_data"
        },
        {
          "name": "stdout",
          "output_type": "stream",
          "text": [
            "Saving .env to .env\n",
            ".env successfully loaded\n",
            "API Key loaded correctly.\n"
          ]
        }
      ],
      "source": [
        "from google.colab import files\n",
        "from decouple import Config, RepositoryEnv\n",
        "import os\n",
        "\n",
        "# Upload the .env file manually\n",
        "print(\"Please upload your .env file:\")\n",
        "uploaded = files.upload()\n",
        "\n",
        "# Check if the .env file was uploaded\n",
        "if '.env' in uploaded:\n",
        "    print(\".env successfully loaded\")\n",
        "    # Save the .env file\n",
        "    env_path = '.env'\n",
        "else:\n",
        "    raise FileNotFoundError(\"The .env file did not load correctly. Please try again.\")\n",
        "\n",
        "# Retrieve the API Key\n",
        "config = Config(RepositoryEnv(env_path))\n",
        "\n",
        "# Validate the API Key\n",
        "api_key = config('OPENAI_API_KEY', default=None)\n",
        "if api_key:\n",
        "    print(\"API Key loaded correctly.\")\n",
        "else:\n",
        "    print(\"Error: Could not load API Key.\")"
      ]
    },
    {
      "cell_type": "markdown",
      "metadata": {
        "id": "WlixAF4EEwbe"
      },
      "source": [
        "This part of the code clones the GitHub repository containing the required files for the GLMP process. The `base_path` is defined to specify the directory where these files are stored (`src/files`) within the cloned repository, ensuring seamless access to the necessary resources."
      ]
    },
    {
      "cell_type": "code",
      "execution_count": 3,
      "metadata": {
        "colab": {
          "base_uri": "https://localhost:8080/"
        },
        "collapsed": true,
        "id": "rm47Ulfs-0VB",
        "outputId": "84ef4b77-65b7-4c90-c4d5-e2a5dbe1d8df"
      },
      "outputs": [
        {
          "name": "stdout",
          "output_type": "stream",
          "text": [
            "Cloning into 'AutomatedGLMP'...\n",
            "remote: Enumerating objects: 84, done.\u001b[K\n",
            "remote: Counting objects: 100% (84/84), done.\u001b[K\n",
            "remote: Compressing objects: 100% (65/65), done.\u001b[K\n",
            "remote: Total 84 (delta 20), reused 59 (delta 8), pack-reused 0 (from 0)\u001b[K\n",
            "Receiving objects: 100% (84/84), 66.89 KiB | 5.14 MiB/s, done.\n",
            "Resolving deltas: 100% (20/20), done.\n"
          ]
        }
      ],
      "source": [
        "# Cloning the repository from GitHub\n",
        "!git clone https://github.com/jaredgs93/AutomatedGLMP.git\n",
        "\n",
        "# Define the base project path of the files\n",
        "base_path = \"/content/AutomatedGLMP/src/files/affective\""
      ]
    },
    {
      "cell_type": "markdown",
      "metadata": {
        "id": "a3MKz3uGpAk9"
      },
      "source": [
        "The OpenAI client is initialized with the API key retrieved from the `.env` file. The `json` library is imported to manage structured data, such as API responses."
      ]
    },
    {
      "cell_type": "code",
      "execution_count": 4,
      "metadata": {
        "id": "1vWQi9hlpGJM"
      },
      "outputs": [],
      "source": [
        "from openai import OpenAI\n",
        "client = OpenAI(api_key = config('OPENAI_API_KEY'))\n",
        "import json"
      ]
    },
    {
      "cell_type": "markdown",
      "metadata": {
        "id": "N7ZddWHupl8O"
      },
      "source": [
        "The `prompt.txt` file is opened and read to retrieve the foundational description of GLMP generation. It includes the measures catalog, the structure for first-order perception mappings (1PMs), and guidelines for constructing hierarchical granularity and aggregation functions. This information is important for implementing the GLMP process accurately."
      ]
    },
    {
      "cell_type": "code",
      "execution_count": 5,
      "metadata": {
        "colab": {
          "base_uri": "https://localhost:8080/"
        },
        "id": "t0A_Kpb6pwJo",
        "outputId": "eff74d8a-8943-4391-ef2c-c83ef727b43a"
      },
      "outputs": [
        {
          "name": "stdout",
          "output_type": "stream",
          "text": [
            "Affective computing is defined as an emerging research field that focuses on recognizing and processing human emotions and sentiments using various modalities such as text, audio, visual, and physiological signals.\n",
            "\n",
            "Multimodal video analysis allows text, audio and video to be extracted to detect certain human features. This is made possible by various machine learning techniques.\n",
            "\n",
            "A set of measures has been defined for each modality, which is shown below. The measures apply to videos of 138 mock job interviews conducted by career counsellors with MIT undergraduates.\n",
            "\n",
            "    1) Colleague: Appeared professional and team-oriented.\n",
            "    2) Engaged: Showed active interest and participation.\n",
            "    3) Excited: Demonstrated enthusiasm or energetic behavior.\n",
            "    4) EyeContact: Maintained consistent eye contact with the interviewer.\n",
            "    5) Smiled: Displayed frequent or appropriate smiling.\n",
            "    6) SpeakingRate: Measured how quickly or slowly the person spoke.\n",
            "    7) NoFillers: Used minimal filler words (“um,” “uh,” etc.).\n",
            "    8) Friendly: Conveyed warmth and approachability.\n",
            "    9) Paused: Exhibited controlled or purposeful pauses.\n",
            "    10) EngagingTone: Used a tone that kept the interviewer interested.\n",
            "    11) StructuredAnswers: Provided well-organized, coherent responses.\n",
            "    12) Calm: Remained composed under interview pressure.\n",
            "    13) NotStressed: Showed minimal anxiety or tension.\n",
            "    14) Focused: Stayed on topic and maintained concentration.\n",
            "    15) Authentic: Came across as genuine and sincere.\n",
            "    16) NotAwkward: Appeared comfortable and at ease.\n",
            "\n",
            "All metrics are on the 0-7 scale. These  lay the foundation for more complex representation of human behaviour through the granular linguistic model of a phenomenon (GLMP), where the  are first-order perception mappings (1PMs). \n",
            "\n",
            "Your task is as follows: You will receive one JSON files as input which includes the measures catalogue results of a video evaluated. From the measures obtained, you will build the entire GLMP by constructing the different levels of granularity, where the 1 PMs must be strictly from the measures catalogue, as well as making the corresponding inferences associated with the aggregation functions. The GLMP must represent a specific human emotion/sentiment related with affective computing.\n",
            "\n",
            "The constituent elements of the JSON are delineated as follows:\n",
            "    1) figure: Represents the phenomenon or concept being modeled.\n",
            "    2) inputs: In the case of first-order PMs, it is a numerical value defined in the domain, and follows the next structure:\n",
            "        \"inputs\": [\n",
            "                {\n",
            "                  \"value\": {numeric value based on the measures catalogue}\n",
            "                }]\n",
            "        Otherwise, from second-order PMs, it is a list that contains child nodes or input elements contributing to the parent concept. These inputs are organized recursively to reflect the hierarchical nature of the GLMP. \n",
            "    3) output: Specifies the resulting value for the figure, including:\n",
            "        a) value: A numerical output representing the computed result.\n",
            "        b) linguistic_expressions: Qualitative labels such as low, medium, and high that describe states of the phenomenon.\n",
            "        c) validity_degrees: Membership degrees for each linguistic expression, representing the degree to which the output fits each label.\n",
            "    3) aggregation_function: Describes how input elements are combined to produce the output. It includes:\n",
            "        a) type: Defines the method of aggregation, such as 'membership function' (only for 1 PMs), rules, Choquet Integral...\n",
            "        b) details: Provides additional information, such as the specific rules or formulas used.\n",
            "            I) source: Exclusive for first-order PMs. It indicates how the input was obtained (measure).\n",
            "            II) rules: It is a list of the specific rules and each rule is a string. The specific structure is IF input1[value_input1] AND/OR/NOT input2[value_input2] AND/OR/NOT input3[value_input3]  THEN consequent[consequent_value] \n",
            "        c) universe: Defines the universe of discourse (range of values that the variable can take). For example, if it has the value [0, 10, 0.01], the range is 0 to 10 with increments of 0.01.\n",
            "        c) fuzzy_sets: Parameters that define membership functions for linguistic terms like low, medium, and high. Each fuzzy sets includes the next elements:\n",
            "            I) type: Indicates the type of membership function, which may be one of the following but is not limited to: dsigmf, gauss2mf, gaussmf, gbellmf, piecemf, pimf, psigmf, sigmf, smf, trapmf, trimf\n",
            "            II) fuzzy_set_params: Specifies the parameters required for the chosen membership function. These parameters are specific to each function and determine its shape. \n",
            "    4) template: Contains a natural language template used for generating textual outputs based on the computed results.\n",
            "\n",
            "Considerations:\n",
            "    1) The emotion/sentiment to be modeled must be related to affective computing.\n",
            "    2) If the figure receives more than three entries, use a different aggregation method than rules.\n",
            "    3) The rule set must be fully defined.\n",
            "    4) All required values must be inferred.\n",
            "    5) You can define as many levels of granularity as you consider necessary. At least, three levels.\n",
            "    6) The 1 PMs must include the real input values.\n",
            "    7) From 2 PM onwards, each PM must have at least 2 input PMs.\n",
            "    8) The JSON must have the correct structure and must be validated.\n",
            "    9) It is not necessary to use all the measures in the catalogue.\n"
          ]
        }
      ],
      "source": [
        "with open(os.path.join(base_path, \"prompt.txt\"), \"r\",  encoding=\"utf8\") as f:\n",
        "    prompt = f.read()\n",
        "print(prompt)"
      ]
    },
    {
      "cell_type": "markdown",
      "metadata": {
        "id": "l4fqszVurBXH"
      },
      "source": [
        "The `measures.json` file is loaded and parsed into a Python dictionary. This file contains a detailed set of metrics related to multimodal video analysis, such as audio, text, and video measures. These metrics include attributes like noise, fluency, mood, articulation, topic relevance, gaze, and emotions. The structured data will be used to populate the first-order perception mappings (1PMs) of the GLMP, forming the foundation for subsequent inferences and aggregations."
      ]
    },
    {
      "cell_type": "code",
      "execution_count": 6,
      "metadata": {
        "colab": {
          "base_uri": "https://localhost:8080/"
        },
        "id": "CmvxqUi8rFn1",
        "outputId": "dba67853-0b39-4b36-ccf5-8432a39bebb8"
      },
      "outputs": [
        {
          "data": {
            "text/plain": [
              "{'Colleague': 6.398213204,\n",
              " 'Engaged': 6.492444534,\n",
              " 'Excited': 6.140326849,\n",
              " 'EyeContact': 6.39249702,\n",
              " 'Smiled': 6.418174293,\n",
              " 'SpeakingRate': 4.64177682,\n",
              " 'NoFillers': 5.768629208,\n",
              " 'Friendly': 6.61158389,\n",
              " 'Paused': 6.421609969,\n",
              " 'EngagingTone': 6.279073848,\n",
              " 'StructuredAnswers': 6.026200758,\n",
              " 'Calm': 6.108966944,\n",
              " 'NotStressed': 5.989827588,\n",
              " 'Focused': 6.728405132,\n",
              " 'Authentic': 6.068455253,\n",
              " 'NotAwkward': 6.537313649}"
            ]
          },
          "execution_count": 6,
          "metadata": {},
          "output_type": "execute_result"
        }
      ],
      "source": [
        "with open(os.path.join(base_path, \"measures.json\"), \"r\") as f:\n",
        "    metrics = json.load(f)\n",
        "metrics"
      ]
    },
    {
      "cell_type": "markdown",
      "metadata": {
        "id": "2ls-UrDkt0Rg"
      },
      "source": [
        "The prompt is augmented with the `measures.json` file."
      ]
    },
    {
      "cell_type": "code",
      "execution_count": null,
      "metadata": {
        "id": "eUwjm24buJGZ"
      },
      "outputs": [],
      "source": [
        "prompt += \"\\n\\n JSON 1: \" + json.dumps(metrics)\n",
        "\n",
        "\n",
        "response = client.chat.completions.create(\n",
        "    model=\"o1-mini\",\n",
        "    messages=[\n",
        "        {\n",
        "            \"role\": \"user\",\n",
        "            \"content\": prompt\n",
        "        }\n",
        "    ]\n",
        ")\n"
      ]
    },
    {
      "cell_type": "markdown",
      "metadata": {
        "id": "kOl9s_xDBMUk"
      },
      "source": [
        "Save the content from the response in a .txt file"
      ]
    },
    {
      "cell_type": "code",
      "execution_count": 8,
      "metadata": {
        "colab": {
          "base_uri": "https://localhost:8080/"
        },
        "id": "45X800ppBKsX",
        "outputId": "94710f7b-0ddb-4ccb-a569-f1fcf7e05490"
      },
      "outputs": [
        {
          "name": "stdout",
          "output_type": "stream",
          "text": [
            "```json\n",
            "{\n",
            "  \"figure\": \"PositiveImpression\",\n",
            "  \"inputs\": [\n",
            "    {\n",
            "      \"figure\": \"Engagement\",\n",
            "      \"inputs\": [\n",
            "        {\n",
            "          \"figure\": \"Colleague\",\n",
            "          \"inputs\": [\n",
            "            {\n",
            "              \"value\": 6.398213204\n",
            "            }\n",
            "          ],\n",
            "          \"output\": {\n",
            "            \"value\": 6.398213204,\n",
            "            \"linguistic_expressions\": {\n",
            "              \"low\": 0.0,\n",
            "              \"medium\": 0.0,\n",
            "              \"high\": 1.0\n",
            "            },\n",
            "            \"validity_degrees\": {\n",
            "              \"low\": 0.0,\n",
            "              \"medium\": 0.0,\n",
            "              \"high\": 1.0\n",
            "            }\n",
            "          },\n",
            "          \"aggregation_function\": {\n",
            "            \"type\": \"membership function\",\n",
            "            \"details\": {\n",
            "              \"source\": \"Colleague\"\n",
            "            },\n",
            "            \"universe\": [0, 7, 0.01],\n",
            "            \"fuzzy_sets\": {\n",
            "              \"low\": {\n",
            "                \"type\": \"trimf\",\n",
            "                \"fuzzy_set_params\": [0, 0, 3.5]\n",
            "              },\n",
            "              \"medium\": {\n",
            "                \"type\": \"trimf\",\n",
            "                \"fuzzy_set_params\": [2.5, 3.5, 4.5]\n",
            "              },\n",
            "              \"high\": {\n",
            "                \"type\": \"trimf\",\n",
            "                \"fuzzy_set_params\": [4, 7, 7]\n",
            "              }\n",
            "            }\n",
            "          },\n",
            "          \"template\": \"The candidate appeared as a colleague with a score of {value}.\"\n",
            "        },\n",
            "        {\n",
            "          \"figure\": \"Engaged\",\n",
            "          \"inputs\": [\n",
            "            {\n",
            "              \"value\": 6.492444534\n",
            "            }\n",
            "          ],\n",
            "          \"output\": {\n",
            "            \"value\": 6.492444534,\n",
            "            \"linguistic_expressions\": {\n",
            "              \"low\": 0.0,\n",
            "              \"medium\": 0.0,\n",
            "              \"high\": 1.0\n",
            "            },\n",
            "            \"validity_degrees\": {\n",
            "              \"low\": 0.0,\n",
            "              \"medium\": 0.0,\n",
            "              \"high\": 1.0\n",
            "            }\n",
            "          },\n",
            "          \"aggregation_function\": {\n",
            "            \"type\": \"membership function\",\n",
            "            \"details\": {\n",
            "              \"source\": \"Engaged\"\n",
            "            },\n",
            "            \"universe\": [0, 7, 0.01],\n",
            "            \"fuzzy_sets\": {\n",
            "              \"low\": {\n",
            "                \"type\": \"trimf\",\n",
            "                \"fuzzy_set_params\": [0, 0, 3.5]\n",
            "              },\n",
            "              \"medium\": {\n",
            "                \"type\": \"trimf\",\n",
            "                \"fuzzy_set_params\": [2.5, 3.5, 4.5]\n",
            "              },\n",
            "              \"high\": {\n",
            "                \"type\": \"trimf\",\n",
            "                \"fuzzy_set_params\": [4, 7, 7]\n",
            "              }\n",
            "            }\n",
            "          },\n",
            "          \"template\": \"The candidate was engaged with a score of {value}.\"\n",
            "        },\n",
            "        {\n",
            "          \"figure\": \"EyeContact\",\n",
            "          \"inputs\": [\n",
            "            {\n",
            "              \"value\": 6.39249702\n",
            "            }\n",
            "          ],\n",
            "          \"output\": {\n",
            "            \"value\": 6.39249702,\n",
            "            \"linguistic_expressions\": {\n",
            "              \"low\": 0.0,\n",
            "              \"medium\": 0.0,\n",
            "              \"high\": 1.0\n",
            "            },\n",
            "            \"validity_degrees\": {\n",
            "              \"low\": 0.0,\n",
            "              \"medium\": 0.0,\n",
            "              \"high\": 1.0\n",
            "            }\n",
            "          },\n",
            "          \"aggregation_function\": {\n",
            "            \"type\": \"membership function\",\n",
            "            \"details\": {\n",
            "              \"source\": \"EyeContact\"\n",
            "            },\n",
            "            \"universe\": [0, 7, 0.01],\n",
            "            \"fuzzy_sets\": {\n",
            "              \"low\": {\n",
            "                \"type\": \"trimf\",\n",
            "                \"fuzzy_set_params\": [0, 0, 3.5]\n",
            "              },\n",
            "              \"medium\": {\n",
            "                \"type\": \"trimf\",\n",
            "                \"fuzzy_set_params\": [2.5, 3.5, 4.5]\n",
            "              },\n",
            "              \"high\": {\n",
            "                \"type\": \"trimf\",\n",
            "                \"fuzzy_set_params\": [4, 7, 7]\n",
            "              }\n",
            "            }\n",
            "          },\n",
            "          \"template\": \"The candidate maintained eye contact with a score of {value}.\"\n",
            "        },\n",
            "        {\n",
            "          \"figure\": \"Smiled\",\n",
            "          \"inputs\": [\n",
            "            {\n",
            "              \"value\": 6.418174293\n",
            "            }\n",
            "          ],\n",
            "          \"output\": {\n",
            "            \"value\": 6.418174293,\n",
            "            \"linguistic_expressions\": {\n",
            "              \"low\": 0.0,\n",
            "              \"medium\": 0.0,\n",
            "              \"high\": 1.0\n",
            "            },\n",
            "            \"validity_degrees\": {\n",
            "              \"low\": 0.0,\n",
            "              \"medium\": 0.0,\n",
            "              \"high\": 1.0\n",
            "            }\n",
            "          },\n",
            "          \"aggregation_function\": {\n",
            "            \"type\": \"membership function\",\n",
            "            \"details\": {\n",
            "              \"source\": \"Smiled\"\n",
            "            },\n",
            "            \"universe\": [0, 7, 0.01],\n",
            "            \"fuzzy_sets\": {\n",
            "              \"low\": {\n",
            "                \"type\": \"trimf\",\n",
            "                \"fuzzy_set_params\": [0, 0, 3.5]\n",
            "              },\n",
            "              \"medium\": {\n",
            "                \"type\": \"trimf\",\n",
            "                \"fuzzy_set_params\": [2.5, 3.5, 4.5]\n",
            "              },\n",
            "              \"high\": {\n",
            "                \"type\": \"trimf\",\n",
            "                \"fuzzy_set_params\": [4, 7, 7]\n",
            "              }\n",
            "            }\n",
            "          },\n",
            "          \"template\": \"The candidate smiled with a score of {value}.\"\n",
            "        }\n",
            "      ],\n",
            "      \"output\": {\n",
            "        \"value\": 6.438332499,\n",
            "        \"linguistic_expressions\": {\n",
            "          \"low\": 0.0,\n",
            "          \"medium\": 0.0,\n",
            "          \"high\": 1.0\n",
            "        },\n",
            "        \"validity_degrees\": {\n",
            "          \"low\": 0.0,\n",
            "          \"medium\": 0.0,\n",
            "          \"high\": 1.0\n",
            "        }\n",
            "      },\n",
            "      \"aggregation_function\": {\n",
            "        \"type\": \"average\",\n",
            "        \"details\": {\n",
            "          \"method\": \"mean\"\n",
            "        },\n",
            "        \"universe\": [0, 7, 0.01],\n",
            "        \"fuzzy_sets\": {\n",
            "          \"low\": {\n",
            "            \"type\": \"trimf\",\n",
            "            \"fuzzy_set_params\": [0, 0, 3.5]\n",
            "          },\n",
            "          \"medium\": {\n",
            "            \"type\": \"trimf\",\n",
            "            \"fuzzy_set_params\": [2.5, 3.5, 4.5]\n",
            "          },\n",
            "          \"high\": {\n",
            "            \"type\": \"trimf\",\n",
            "            \"fuzzy_set_params\": [4, 7, 7]\n",
            "          }\n",
            "        }\n",
            "      },\n",
            "      \"template\": \"Engagement level is {value}.\"\n",
            "    },\n",
            "    {\n",
            "      \"figure\": \"Confidence\",\n",
            "      \"inputs\": [\n",
            "        {\n",
            "          \"figure\": \"Calm\",\n",
            "          \"inputs\": [\n",
            "            {\n",
            "              \"value\": 6.108966944\n",
            "            }\n",
            "          ],\n",
            "          \"output\": {\n",
            "            \"value\": 6.108966944,\n",
            "            \"linguistic_expressions\": {\n",
            "              \"low\": 0.0,\n",
            "              \"medium\": 0.0,\n",
            "              \"high\": 1.0\n",
            "            },\n",
            "            \"validity_degrees\": {\n",
            "              \"low\": 0.0,\n",
            "              \"medium\": 0.0,\n",
            "              \"high\": 1.0\n",
            "            }\n",
            "          },\n",
            "          \"aggregation_function\": {\n",
            "            \"type\": \"membership function\",\n",
            "            \"details\": {\n",
            "              \"source\": \"Calm\"\n",
            "            },\n",
            "            \"universe\": [0, 7, 0.01],\n",
            "            \"fuzzy_sets\": {\n",
            "              \"low\": {\n",
            "                \"type\": \"trimf\",\n",
            "                \"fuzzy_set_params\": [0, 0, 3.5]\n",
            "              },\n",
            "              \"medium\": {\n",
            "                \"type\": \"trimf\",\n",
            "                \"fuzzy_set_params\": [2.5, 3.5, 4.5]\n",
            "              },\n",
            "              \"high\": {\n",
            "                \"type\": \"trimf\",\n",
            "                \"fuzzy_set_params\": [4, 7, 7]\n",
            "              }\n",
            "            }\n",
            "          },\n",
            "          \"template\": \"The candidate remained calm with a score of {value}.\"\n",
            "        },\n",
            "        {\n",
            "          \"figure\": \"NotStressed\",\n",
            "          \"inputs\": [\n",
            "            {\n",
            "              \"value\": 5.989827588\n",
            "            }\n",
            "          ],\n",
            "          \"output\": {\n",
            "            \"value\": 5.989827588,\n",
            "            \"linguistic_expressions\": {\n",
            "              \"low\": 0.0,\n",
            "              \"medium\": 0.0,\n",
            "              \"high\": 1.0\n",
            "            },\n",
            "            \"validity_degrees\": {\n",
            "              \"low\": 0.0,\n",
            "              \"medium\": 0.0,\n",
            "              \"high\": 1.0\n",
            "            }\n",
            "          },\n",
            "          \"aggregation_function\": {\n",
            "            \"type\": \"membership function\",\n",
            "            \"details\": {\n",
            "              \"source\": \"NotStressed\"\n",
            "            },\n",
            "            \"universe\": [0, 7, 0.01],\n",
            "            \"fuzzy_sets\": {\n",
            "              \"low\": {\n",
            "                \"type\": \"trimf\",\n",
            "                \"fuzzy_set_params\": [0, 0, 3.5]\n",
            "              },\n",
            "              \"medium\": {\n",
            "                \"type\": \"trimf\",\n",
            "                \"fuzzy_set_params\": [2.5, 3.5, 4.5]\n",
            "              },\n",
            "              \"high\": {\n",
            "                \"type\": \"trimf\",\n",
            "                \"fuzzy_set_params\": [4, 7, 7]\n",
            "              }\n",
            "            }\n",
            "          },\n",
            "          \"template\": \"The candidate showed not being stressed with a score of {value}.\"\n",
            "        }\n",
            "      ],\n",
            "      \"output\": {\n",
            "        \"value\": 6.049397266,\n",
            "        \"linguistic_expressions\": {\n",
            "          \"low\": 0.0,\n",
            "          \"medium\": 0.0,\n",
            "          \"high\": 1.0\n",
            "        },\n",
            "        \"validity_degrees\": {\n",
            "          \"low\": 0.0,\n",
            "          \"medium\": 0.0,\n",
            "          \"high\": 1.0\n",
            "        }\n",
            "      },\n",
            "      \"aggregation_function\": {\n",
            "        \"type\": \"average\",\n",
            "        \"details\": {\n",
            "          \"method\": \"mean\"\n",
            "        },\n",
            "        \"universe\": [0, 7, 0.01],\n",
            "        \"fuzzy_sets\": {\n",
            "          \"low\": {\n",
            "            \"type\": \"trimf\",\n",
            "            \"fuzzy_set_params\": [0, 0, 3.5]\n",
            "          },\n",
            "          \"medium\": {\n",
            "            \"type\": \"trimf\",\n",
            "            \"fuzzy_set_params\": [2.5, 3.5, 4.5]\n",
            "          },\n",
            "          \"high\": {\n",
            "            \"type\": \"trimf\",\n",
            "            \"fuzzy_set_params\": [4, 7, 7]\n",
            "          }\n",
            "        }\n",
            "      },\n",
            "      \"template\": \"Confidence level is {value}.\"\n",
            "    },\n",
            "    {\n",
            "      \"figure\": \"Authenticity\",\n",
            "      \"inputs\": [\n",
            "        {\n",
            "          \"figure\": \"Authentic\",\n",
            "          \"inputs\": [\n",
            "            {\n",
            "              \"value\": 6.068455253\n",
            "            }\n",
            "          ],\n",
            "          \"output\": {\n",
            "            \"value\": 6.068455253,\n",
            "            \"linguistic_expressions\": {\n",
            "              \"low\": 0.0,\n",
            "              \"medium\": 0.0,\n",
            "              \"high\": 1.0\n",
            "            },\n",
            "            \"validity_degrees\": {\n",
            "              \"low\": 0.0,\n",
            "              \"medium\": 0.0,\n",
            "              \"high\": 1.0\n",
            "            }\n",
            "          },\n",
            "          \"aggregation_function\": {\n",
            "            \"type\": \"membership function\",\n",
            "            \"details\": {\n",
            "              \"source\": \"Authentic\"\n",
            "            },\n",
            "            \"universe\": [0, 7, 0.01],\n",
            "            \"fuzzy_sets\": {\n",
            "              \"low\": {\n",
            "                \"type\": \"trimf\",\n",
            "                \"fuzzy_set_params\": [0, 0, 3.5]\n",
            "              },\n",
            "              \"medium\": {\n",
            "                \"type\": \"trimf\",\n",
            "                \"fuzzy_set_params\": [2.5, 3.5, 4.5]\n",
            "              },\n",
            "              \"high\": {\n",
            "                \"type\": \"trimf\",\n",
            "                \"fuzzy_set_params\": [4, 7, 7]\n",
            "              }\n",
            "            }\n",
            "          },\n",
            "          \"template\": \"The candidate was authentic with a score of {value}.\"\n",
            "        },\n",
            "        {\n",
            "          \"figure\": \"NotAwkward\",\n",
            "          \"inputs\": [\n",
            "            {\n",
            "              \"value\": 6.537313649\n",
            "            }\n",
            "          ],\n",
            "          \"output\": {\n",
            "            \"value\": 6.537313649,\n",
            "            \"linguistic_expressions\": {\n",
            "              \"low\": 0.0,\n",
            "              \"medium\": 0.0,\n",
            "              \"high\": 1.0\n",
            "            },\n",
            "            \"validity_degrees\": {\n",
            "              \"low\": 0.0,\n",
            "              \"medium\": 0.0,\n",
            "              \"high\": 1.0\n",
            "            }\n",
            "          },\n",
            "          \"aggregation_function\": {\n",
            "            \"type\": \"membership function\",\n",
            "            \"details\": {\n",
            "              \"source\": \"NotAwkward\"\n",
            "            },\n",
            "            \"universe\": [0, 7, 0.01],\n",
            "            \"fuzzy_sets\": {\n",
            "              \"low\": {\n",
            "                \"type\": \"trimf\",\n",
            "                \"fuzzy_set_params\": [0, 0, 3.5]\n",
            "              },\n",
            "              \"medium\": {\n",
            "                \"type\": \"trimf\",\n",
            "                \"fuzzy_set_params\": [2.5, 3.5, 4.5]\n",
            "              },\n",
            "              \"high\": {\n",
            "                \"type\": \"trimf\",\n",
            "                \"fuzzy_set_params\": [4, 7, 7]\n",
            "              }\n",
            "            }\n",
            "          },\n",
            "          \"template\": \"The candidate was not awkward with a score of {value}.\"\n",
            "        }\n",
            "      ],\n",
            "      \"output\": {\n",
            "        \"value\": 6.302884451,\n",
            "        \"linguistic_expressions\": {\n",
            "          \"low\": 0.0,\n",
            "          \"medium\": 0.0,\n",
            "          \"high\": 1.0\n",
            "        },\n",
            "        \"validity_degrees\": {\n",
            "          \"low\": 0.0,\n",
            "          \"medium\": 0.0,\n",
            "          \"high\": 1.0\n",
            "        }\n",
            "      },\n",
            "      \"aggregation_function\": {\n",
            "        \"type\": \"average\",\n",
            "        \"details\": {\n",
            "          \"method\": \"mean\"\n",
            "        },\n",
            "        \"universe\": [0, 7, 0.01],\n",
            "        \"fuzzy_sets\": {\n",
            "          \"low\": {\n",
            "            \"type\": \"trimf\",\n",
            "            \"fuzzy_set_params\": [0, 0, 3.5]\n",
            "          },\n",
            "          \"medium\": {\n",
            "            \"type\": \"trimf\",\n",
            "            \"fuzzy_set_params\": [2.5, 3.5, 4.5]\n",
            "          },\n",
            "          \"high\": {\n",
            "            \"type\": \"trimf\",\n",
            "            \"fuzzy_set_params\": [4, 7, 7]\n",
            "          }\n",
            "        }\n",
            "      },\n",
            "      \"template\": \"Authenticity level is {value}.\"\n",
            "    }\n",
            "  ],\n",
            "  \"output\": {\n",
            "    \"value\": 6.29637305,\n",
            "    \"linguistic_expressions\": {\n",
            "      \"low\": 0.0,\n",
            "      \"medium\": 0.0,\n",
            "      \"high\": 1.0\n",
            "    },\n",
            "    \"validity_degrees\": {\n",
            "      \"low\": 0.0,\n",
            "      \"medium\": 0.0,\n",
            "      \"high\": 1.0\n",
            "    }\n",
            "  },\n",
            "  \"aggregation_function\": {\n",
            "    \"type\": \"Choquet Integral\",\n",
            "    \"details\": {\n",
            "      \"capacity\": {\n",
            "        \"Engagement\": 0.5,\n",
            "        \"Confidence\": 0.3,\n",
            "        \"Authenticity\": 0.2\n",
            "      }\n",
            "    },\n",
            "    \"universe\": [0, 7, 0.01],\n",
            "    \"fuzzy_sets\": {\n",
            "      \"low\": {\n",
            "        \"type\": \"trimf\",\n",
            "        \"fuzzy_set_params\": [0, 0, 2.5]\n",
            "      },\n",
            "      \"medium\": {\n",
            "        \"type\": \"trimf\",\n",
            "        \"fuzzy_set_params\": [2, 3.5, 5]\n",
            "      },\n",
            "      \"high\": {\n",
            "        \"type\": \"trimf\",\n",
            "        \"fuzzy_set_params\": [4.5, 7, 7]\n",
            "      }\n",
            "    }\n",
            "  },\n",
            "  \"template\": \"Overall Positive Impression is {value}.\"\n",
            "}\n",
            "```\n"
          ]
        }
      ],
      "source": [
        "with open(\"response.txt\", \"w\", encoding=\"utf8\") as f:\n",
        "    f.write(response.choices[0].message.content)\n",
        "\n",
        "print(response.choices[0].message.content)"
      ]
    },
    {
      "cell_type": "markdown",
      "metadata": {
        "id": "pEVyvt1Uu5jw"
      },
      "source": [
        "The JSON object generated by the API is extracted by splitting the response text, isolating the raw JSON content for further use."
      ]
    },
    {
      "cell_type": "code",
      "execution_count": 9,
      "metadata": {
        "colab": {
          "base_uri": "https://localhost:8080/"
        },
        "id": "OtiVBZ1mJcPy",
        "outputId": "a5d7a86b-ca10-459b-a915-47c577fb8367"
      },
      "outputs": [
        {
          "name": "stdout",
          "output_type": "stream",
          "text": [
            "JSON successfully saved in generated_glmp.json\n"
          ]
        }
      ],
      "source": [
        "json_str = response.choices[0].message.content.split(\"```json\")[1].split(\"```\")[0]\n",
        "glmp_json = json.loads(json_str)\n",
        "\n",
        "output_file = \"generated_glmp.json\"\n",
        "with open(output_file, \"w\", encoding=\"utf8\") as f:\n",
        "    json.dump(glmp_json, f, ensure_ascii=False, indent=4)\n",
        "\n",
        "print(f\"JSON successfully saved in {output_file}\")\n"
      ]
    },
    {
      "cell_type": "markdown",
      "metadata": {
        "id": "SmNUHloalhho"
      },
      "source": [
        "## Visualization of structure"
      ]
    },
    {
      "cell_type": "markdown",
      "metadata": {
        "id": "DIP53OsR8FFm"
      },
      "source": [
        "This section focuses on visualizing the hierarchical structure of the GLMP. A directed graph is generated, where nodes represent the components of the model, and edges point from children to their parent nodes. The graph is displayed with an intuitive layout, highlighting the relationships within the GLMP."
      ]
    },
    {
      "cell_type": "markdown",
      "metadata": {
        "id": "Y1XNm_Nk1Xa5"
      },
      "source": [
        "The following imports are used:\n",
        "\n",
        "1. `networkx`: For creating, analyzing, and manipulating graphs and networks.\n",
        "2. `matplotlib.pyplot`: For plotting and visualizing the graphs.\n",
        "3. `graphviz_layout` (from `networkx.drawing.nx_pydot`): For generating hierarchical layouts using Graphviz, ideal for structured graph representations."
      ]
    },
    {
      "cell_type": "code",
      "execution_count": 10,
      "metadata": {
        "id": "Kt6KoMHv1FRv"
      },
      "outputs": [],
      "source": [
        "import networkx as nx\n",
        "import matplotlib.pyplot as plt\n",
        "from networkx.drawing.nx_pydot import graphviz_layout"
      ]
    },
    {
      "cell_type": "markdown",
      "metadata": {
        "id": "eQXIImjT1utQ"
      },
      "source": [
        "The `build_glmp_upward_edges` function recursively traverses a GLMP structure to build a directed graph with upward-pointing edges (child to parent). Key steps include:\n",
        "\n",
        "1. Node Addition: Nodes are added for elements with a `figure` key.\n",
        "2. Edge Creation: For each node, an edge is added from the child to the parent, creating an upward flow in the graph.\n",
        "3. Recursive Traversal: For each child in the `inputs` list, the function is called recursively, treating the current node as the parent.\n",
        "4. Omission of Non-Figure Nodes: Numeric leaves (e.g., nodes with only a `value` key) are skipped to focus on figure-based nodes.\n",
        "This function is essential for constructing the hierarchical structure of the GLMP as a directed graph."
      ]
    },
    {
      "cell_type": "code",
      "execution_count": 11,
      "metadata": {
        "id": "8-n6TfmT1IgM"
      },
      "outputs": [],
      "source": [
        "def build_glmp_upward_edges(glmp_node, graph, parent=None):\n",
        "    \"\"\"\n",
        "    Recursively traverse the GLMP, adding figure-based nodes only,\n",
        "    with edges from child -> parent (arrow pointing upward).\n",
        "    Numeric leaves (e.g. { 'value': 0.9 }) are omitted.\n",
        "    \"\"\"\n",
        "    figure_name = glmp_node.get(\"figure\")\n",
        "    if not figure_name:\n",
        "        # Skip if there's no figure (probably just a numeric 'value' leaf)\n",
        "        return\n",
        "\n",
        "    # Add the node if it doesn't exist yet\n",
        "    graph.add_node(figure_name)\n",
        "\n",
        "    # If we have a parent, add an edge from child (this figure) -> parent\n",
        "    # so the arrow will point upward to the higher-level node\n",
        "    if parent is not None:\n",
        "        graph.add_edge(figure_name, parent)\n",
        "\n",
        "    # Recurse over each child in \"inputs\"\n",
        "    for child in glmp_node.get(\"inputs\", []):\n",
        "        if isinstance(child, dict) and \"figure\" in child:\n",
        "            # Child is another sub-node: pass current as 'parent'\n",
        "            build_glmp_upward_edges(child, graph, parent=figure_name)\n",
        "        # else if child is just {\"value\": ...}, omit it"
      ]
    },
    {
      "cell_type": "markdown",
      "metadata": {
        "id": "rl3Ga3d42NMD"
      },
      "source": [
        "The `plot_glmp_upward` function visualizes a GLMP as a directed graph with hierarchical structure. Key steps include:\n",
        "\n",
        "1. Graph Creation: Initializes a directed graph (`DiGraph`) with edges pointing upward (child to parent).\n",
        "2. Hierarchy Layout: Configures Graphviz to rank nodes from bottom to top (`rankdir: BT`) for a clear hierarchical representation.\n",
        "3. Node and Edge Construction: Calls `build_glmp_upward_edges` to traverse the GLMP data and construct the graph.\n",
        "4. Graphviz Layout: Uses `graphviz_layout` with the \"dot\" algorithm to position nodes in a structured hierarchy.\n",
        "5. Visualization: Draws the graph using `matplotlib`, with customizable node size, color, and labels."
      ]
    },
    {
      "cell_type": "code",
      "execution_count": 12,
      "metadata": {
        "id": "ptS-NRVi2G9t"
      },
      "outputs": [],
      "source": [
        "def plot_glmp_upward(glmp_data, title=\"Decision Making GLMP\"):\n",
        "    \"\"\"\n",
        "    Build a hierarchy where the root is at the top,\n",
        "    but edges point upward from children to parents.\n",
        "    \"\"\"\n",
        "    # Create directed graph\n",
        "    G = nx.DiGraph()\n",
        "    # Tell Graphviz to rank from Bottom to Top\n",
        "    G.graph[\"graph\"] = {\"rankdir\": \"BT\"}\n",
        "\n",
        "    # Build the upward‐pointing hierarchy\n",
        "    build_glmp_upward_edges(glmp_data, G)\n",
        "\n",
        "    # Use graphviz_layout with 'dot' to get a hierarchical layout\n",
        "    pos = graphviz_layout(G, prog=\"dot\")\n",
        "\n",
        "    # Draw\n",
        "    plt.figure(figsize=(18, 6))\n",
        "    nx.draw(\n",
        "        G, pos,\n",
        "        with_labels=True,\n",
        "        node_color=\"lightblue\",\n",
        "        node_size=2000,\n",
        "        arrowsize=20,\n",
        "        font_size=6\n",
        "    )\n",
        "    plt.title(title)\n",
        "    plt.axis(\"off\")\n",
        "    plt.show()"
      ]
    },
    {
      "cell_type": "markdown",
      "metadata": {
        "id": "swuYJyt_GXT7"
      },
      "source": [
        "The GLMP structure display is generated as a network."
      ]
    },
    {
      "cell_type": "code",
      "execution_count": 13,
      "metadata": {
        "colab": {
          "base_uri": "https://localhost:8080/",
          "height": 659
        },
        "id": "T3AC28Z1wGb5",
        "outputId": "2c368084-2028-43ec-b7f9-2395c0e9aa03"
      },
      "outputs": [
        {
          "data": {
            "image/png": "[encoded data removed]",
            "text/plain": [
              "<Figure size 1800x600 with 1 Axes>"
            ]
          },
          "metadata": {},
          "output_type": "display_data"
        }
      ],
      "source": [
        "if __name__ == \"__main__\":\n",
        "    plot_glmp_upward(glmp_json)"
      ]
    }
  ],
  "metadata": {
    "colab": {
      "authorship_tag": "ABX9TyNVt0XVGUaTuQ8ozI/7XAnP",
      "include_colab_link": true,
      "provenance": []
    },
    "kernelspec": {
      "display_name": "Python 3",
      "name": "python3"
    },
    "language_info": {
      "name": "python"
    }
  },
  "nbformat": 4,
  "nbformat_minor": 0
}
