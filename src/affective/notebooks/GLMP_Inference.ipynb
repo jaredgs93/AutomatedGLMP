{
 "cells": [
  {
   "cell_type": "markdown",
   "metadata": {},
   "source": [
    "# Affective Positive  "
   ]
  },
  {
   "cell_type": "code",
   "execution_count": null,
   "metadata": {},
   "outputs": [],
   "source": [
    "from decouple import config\n",
    "import os\n",
    "import pandas as pd"
   ]
  },
  {
   "cell_type": "code",
   "execution_count": null,
   "metadata": {},
   "outputs": [],
   "source": [
    "from openai import OpenAI\n",
    "client = OpenAI(api_key = config('OPENAI_API_KEY'))\n",
    "import json"
   ]
  },
  {
   "cell_type": "code",
   "execution_count": null,
   "metadata": {},
   "outputs": [],
   "source": [
    "# Define the working directory\n",
    "base_path = '/Users/jaredguerrero/Documents/Mis publicaciones/2025-1 Teoría GLMP/Code/AutomatedGLMP/src/affective'\n",
    "os.chdir(base_path)"
   ]
  },
  {
   "cell_type": "code",
   "execution_count": null,
   "metadata": {},
   "outputs": [],
   "source": [
    "with open(os.path.join(base_path, 'files', 'prompt_for_inference.txt'), 'r',  encoding='utf8') as f:\n",
    "    prompt = f.read()\n",
    "print(prompt)"
   ]
  },
  {
   "cell_type": "code",
   "execution_count": null,
   "metadata": {},
   "outputs": [],
   "source": [
    "with open(os.path.join('files', 'positive_impression_base.json'), \"r\") as f:\n",
    "    glmp_base = json.load(f)\n",
    "glmp_base"
   ]
  },
  {
   "cell_type": "code",
   "execution_count": null,
   "metadata": {},
   "outputs": [],
   "source": [
    "with open(os.path.join('files', 'measures.json'), \"r\") as f:\n",
    "    measures = json.load(f)\n",
    "glmp_base"
   ]
  },
  {
   "cell_type": "code",
   "execution_count": null,
   "metadata": {},
   "outputs": [],
   "source": [
    "prompt += \"\\n\\n Template: \" + json.dumps(glmp_base)"
   ]
  },
  {
   "cell_type": "code",
   "execution_count": null,
   "metadata": {},
   "outputs": [],
   "source": [
    "scores_df = pd.read_csv(os.path.join('input', 'turker_scores.csv'))\n",
    "scores_df"
   ]
  },
  {
   "cell_type": "code",
   "execution_count": null,
   "metadata": {},
   "outputs": [],
   "source": [
    "scores_df"
   ]
  },
  {
   "cell_type": "code",
   "execution_count": null,
   "metadata": {},
   "outputs": [],
   "source": [
    "for i, row in scores_df.iterrows():\n",
    "    #Convertimos cada fila en un diccionario, pero sin los campos 'Participant' y 'Overall'\n",
    "    row_dict = row.to_dict()\n",
    "    del row_dict['Participant']\n",
    "    del row_dict['Overall']\n",
    "\n",
    "    print(row_dict)"
   ]
  },
  {
   "cell_type": "code",
   "execution_count": null,
   "metadata": {},
   "outputs": [],
   "source": [
    "conversation_history = [{\"role\": \"assistant\", \"content\": prompt}]\n",
    "\n",
    "for i, row in scores_df.iterrows():\n",
    "    #Verificamos si el participante ya tiene un archivo de salida\n",
    "    if os.path.exists(os.path.join('output', f'output_{row[\"Participant\"]}.txt')):\n",
    "        continue\n",
    "    else:\n",
    "        print(f\"Generating output for participant {row['Participant']}\")\n",
    "        #Convertimos cada fila en un diccionario, pero sin los campos 'Participant' y 'Overall'\n",
    "        row_dict = row.to_dict()\n",
    "        del row_dict['Participant']\n",
    "        del row_dict['Overall']\n",
    "\n",
    "        conversation_history.append({\"role\": \"user\", \"content\": json.dumps(row_dict)})\n",
    "        response = client.chat.completions.create(\n",
    "            model=\"o1-mini\",\n",
    "            messages=conversation_history,\n",
    "        )\n",
    "\n",
    "        assistant_response = response.choices[0].message.content\n",
    "        conversation_history.append({\"role\": \"assistant\", \"content\": assistant_response})\n",
    "\n",
    "        #Guardamos la salida en un archivo\n",
    "        with open(os.path.join('output', f'output_{row[\"Participant\"]}.txt'), 'w') as f:\n",
    "            f.write(assistant_response)"
   ]
  }
 ],
 "metadata": {
  "kernelspec": {
   "display_name": "consumoenergetico",
   "language": "python",
   "name": "python3"
  },
  "language_info": {
   "codemirror_mode": {
    "name": "ipython",
    "version": 3
   },
   "file_extension": ".py",
   "mimetype": "text/x-python",
   "name": "python",
   "nbconvert_exporter": "python",
   "pygments_lexer": "ipython3",
   "version": "3.11.0"
  }
 },
 "nbformat": 4,
 "nbformat_minor": 2
}
