{
  "nbformat": 4,
  "nbformat_minor": 0,
  "metadata": {
    "colab": {
      "provenance": [],
      "authorship_tag": "ABX9TyOD6wjLILqEAoBXuD6ACcDP",
      "include_colab_link": true
    },
    "kernelspec": {
      "name": "python3",
      "display_name": "Python 3"
    },
    "language_info": {
      "name": "python"
    }
  },
  "cells": [
    {
      "cell_type": "markdown",
      "metadata": {
        "id": "view-in-github",
        "colab_type": "text"
      },
      "source": [
        "<a href=\"https://colab.research.google.com/github/jaredgs93/AutomatedGLMP/blob/main/src/notebooks/AutomatedGLMP.ipynb\" target=\"_parent\"><img src=\"https://colab.research.google.com/assets/colab-badge.svg\" alt=\"Open In Colab\"/></a>"
      ]
    },
    {
      "cell_type": "markdown",
      "source": [
        "# Automated Granular Linguistic Model of Phenomena (GLMP) generation"
      ],
      "metadata": {
        "id": "jSwkPiVkZmeV"
      }
    },
    {
      "cell_type": "markdown",
      "source": [
        "This notebook automates the generation of a Granular Linguistic Model of a Phenomenon (GLMP) by processing multimodal data (audio, text, and video measures). The primary goal is to construct hierarchical models that enhance explainability by breaking down complex behaviors into interpretable components. Using structured inputs and aggregation techniques, the notebook facilitates the creation and visualization of GLMPs to better understand human-centric phenomena."
      ],
      "metadata": {
        "id": "7nQT3sPLzFmf"
      }
    },
    {
      "cell_type": "markdown",
      "source": [
        "## Preliminary"
      ],
      "metadata": {
        "id": "DQsnF7sFZ7uC"
      }
    },
    {
      "cell_type": "markdown",
      "source": [
        "The preliminary steps outline the foundation for automating the GLMP process. This includes defining the required resources, such as the OpenAI API and input files stored in a GitHub repository, as well as installing essential Python libraries like `openai` and `python-decouple`."
      ],
      "metadata": {
        "id": "EpkBNNA90fgj"
      }
    },
    {
      "cell_type": "markdown",
      "source": [
        "### Requirements"
      ],
      "metadata": {
        "id": "Ci5FpFLOcGHL"
      }
    },
    {
      "cell_type": "markdown",
      "source": [
        "1. Files: The following files can be found at [https://github.com/jaredgs93/AutomatedGLMP.git](https://github.com/jaredgs93/AutomatedGLMP.git)\n",
        "\n",
        "*   `prompt.txt`: It includes the detailed description of the task to be performed by the model. It indicates that it will receive two JSON files, which are as follows:\n",
        "*   `measures.json`: Includes metrics obtained from a previously evaluated video.\n",
        "*   `decision_making_base.txt`: It is the initial JSON structure of a phenomenon to be represented, i.e. the highest level of granularity.\n",
        "\n",
        "2. An **OpenAI API Key** for accessing OpenAI services.\n",
        "\n",
        "  **How to Get Your OpenAI API Key**\n",
        "\n",
        "  * Go to the [OpenAI API Keys](https://platform.openai.com/account/api-keys) page.\n",
        "  * Sign in or create an OpenAI account if you don’t already have one.\n",
        "  * Click \"Create new secret key\" to generate a new API key.\n",
        "  * Create a .env file which will be uploaded.\n",
        "  * Copy the API key and paste it into the `OPENAI_API_KEY` field in your `.env` file."
      ],
      "metadata": {
        "id": "NRBVJ_XYl24c"
      }
    },
    {
      "cell_type": "markdown",
      "source": [
        "### Installation of the necessary libraries\n",
        "\n",
        "\n",
        "*  `openai`: Official OpenAI library that allows interaction with its AI models. In this case, it is used to access the `o1` model, allowing to send specific requests for GLMP (General Language Model Pre-training) text generation or custom tasks according to the model's capabilities.\n",
        "*   `python-decouple`: A library that allows to manage sensitive settings, such as the OpenAI API key, from an .env file. This ensures that credentials are not included directly in the source code, improving security and facilitating the portability of the project.\n",
        "\n"
      ],
      "metadata": {
        "id": "yYhvhLKtacgL"
      }
    },
    {
      "cell_type": "code",
      "source": [
        "!pip install python-decouple\n",
        "!pip install openai"
      ],
      "metadata": {
        "colab": {
          "base_uri": "https://localhost:8080/"
        },
        "id": "HBRSFm1jLO2T",
        "outputId": "84638211-fa95-4b76-dbb4-935e6b77292e",
        "collapsed": true
      },
      "execution_count": null,
      "outputs": [
        {
          "output_type": "stream",
          "name": "stdout",
          "text": [
            "Collecting python-decouple\n",
            "  Downloading python_decouple-3.8-py3-none-any.whl.metadata (14 kB)\n",
            "Downloading python_decouple-3.8-py3-none-any.whl (9.9 kB)\n",
            "Installing collected packages: python-decouple\n",
            "Successfully installed python-decouple-3.8\n",
            "Requirement already satisfied: openai in /usr/local/lib/python3.11/dist-packages (1.59.6)\n",
            "Requirement already satisfied: anyio<5,>=3.5.0 in /usr/local/lib/python3.11/dist-packages (from openai) (3.7.1)\n",
            "Requirement already satisfied: distro<2,>=1.7.0 in /usr/local/lib/python3.11/dist-packages (from openai) (1.9.0)\n",
            "Requirement already satisfied: httpx<1,>=0.23.0 in /usr/local/lib/python3.11/dist-packages (from openai) (0.28.1)\n",
            "Requirement already satisfied: jiter<1,>=0.4.0 in /usr/local/lib/python3.11/dist-packages (from openai) (0.8.2)\n",
            "Requirement already satisfied: pydantic<3,>=1.9.0 in /usr/local/lib/python3.11/dist-packages (from openai) (2.10.5)\n",
            "Requirement already satisfied: sniffio in /usr/local/lib/python3.11/dist-packages (from openai) (1.3.1)\n",
            "Requirement already satisfied: tqdm>4 in /usr/local/lib/python3.11/dist-packages (from openai) (4.67.1)\n",
            "Requirement already satisfied: typing-extensions<5,>=4.11 in /usr/local/lib/python3.11/dist-packages (from openai) (4.12.2)\n",
            "Requirement already satisfied: idna>=2.8 in /usr/local/lib/python3.11/dist-packages (from anyio<5,>=3.5.0->openai) (3.10)\n",
            "Requirement already satisfied: certifi in /usr/local/lib/python3.11/dist-packages (from httpx<1,>=0.23.0->openai) (2024.12.14)\n",
            "Requirement already satisfied: httpcore==1.* in /usr/local/lib/python3.11/dist-packages (from httpx<1,>=0.23.0->openai) (1.0.7)\n",
            "Requirement already satisfied: h11<0.15,>=0.13 in /usr/local/lib/python3.11/dist-packages (from httpcore==1.*->httpx<1,>=0.23.0->openai) (0.14.0)\n",
            "Requirement already satisfied: annotated-types>=0.6.0 in /usr/local/lib/python3.11/dist-packages (from pydantic<3,>=1.9.0->openai) (0.7.0)\n",
            "Requirement already satisfied: pydantic-core==2.27.2 in /usr/local/lib/python3.11/dist-packages (from pydantic<3,>=1.9.0->openai) (2.27.2)\n"
          ]
        }
      ]
    },
    {
      "cell_type": "markdown",
      "source": [
        "## Implementation of GLMP Generation using Model o1"
      ],
      "metadata": {
        "id": "etcfj3XcldsZ"
      }
    },
    {
      "cell_type": "markdown",
      "source": [
        "The following code is responsible for setting up the environment to ensure that the GLMP generation process runs smoothly. Here's a step-by-step explanation of what it does:\n",
        "\n",
        "\n",
        "1. Prompt to Upload the `.env` File. The user is prompted to upload the `.env` file manually using `files.upload()`.\n",
        "2. Check and Save the Uploaded File. The code checks if the `.env` file was successfully uploaded. If it is, it saves the file in the current working directory under the name `.env`. If not, an error is raised, ensuring the process halts until the file is correctly provided.\n",
        "3. Load the `.env` File Using `python-decouple`. The `.env` file, which securely stores sensitive information like the OpenAI API key, is loaded using the `decouple` library. This ensures the credentials remain separate from the source code for security.\n",
        "4. Retrieve and Validate the API Key. The OpenAI API key is retrieved from the `.env` file. The code verifies if the key was successfully loaded and outputs a confirmation message. If the key is missing, it raises an error, ensuring the user knows there is an issue with the file or its contents.\n",
        "\n"
      ],
      "metadata": {
        "id": "RW-r37_4meaT"
      }
    },
    {
      "cell_type": "code",
      "source": [
        "from google.colab import files\n",
        "from decouple import Config, RepositoryEnv\n",
        "import os\n",
        "\n",
        "# Upload the .env file manually\n",
        "print(\"Please upload your .env file:\")\n",
        "uploaded = files.upload()\n",
        "\n",
        "# Check if the .env file was uploaded\n",
        "if '.env' in uploaded:\n",
        "    print(\".env successfully loaded\")\n",
        "    # Save the .env file\n",
        "    env_path = '.env'\n",
        "else:\n",
        "    raise FileNotFoundError(\"The .env file did not load correctly. Please try again.\")\n",
        "\n",
        "# Retrieve the API Key\n",
        "config = Config(RepositoryEnv(env_path))\n",
        "\n",
        "# Validate the API Key\n",
        "api_key = config('OPENAI_API_KEY', default=None)\n",
        "if api_key:\n",
        "    print(\"API Key loaded correctly.\")\n",
        "else:\n",
        "    print(\"Error: Could not load API Key.\")"
      ],
      "metadata": {
        "colab": {
          "base_uri": "https://localhost:8080/",
          "height": 120
        },
        "id": "Qf9tVLb4MW6b",
        "outputId": "8f74d9b8-7237-4f9d-a54d-02e9ad8b1ba7"
      },
      "execution_count": null,
      "outputs": [
        {
          "output_type": "stream",
          "name": "stdout",
          "text": [
            "Please upload your .env file:\n"
          ]
        },
        {
          "output_type": "display_data",
          "data": {
            "text/plain": [
              "<IPython.core.display.HTML object>"
            ],
            "text/html": [
              "\n",
              "     <input type=\"file\" id=\"files-13834f0c-f941-46a8-9103-f2f5f1ada4d9\" name=\"files[]\" multiple disabled\n",
              "        style=\"border:none\" />\n",
              "     <output id=\"result-13834f0c-f941-46a8-9103-f2f5f1ada4d9\">\n",
              "      Upload widget is only available when the cell has been executed in the\n",
              "      current browser session. Please rerun this cell to enable.\n",
              "      </output>\n",
              "      <script>// Copyright 2017 Google LLC\n",
              "//\n",
              "// Licensed under the Apache License, Version 2.0 (the \"License\");\n",
              "// you may not use this file except in compliance with the License.\n",
              "// You may obtain a copy of the License at\n",
              "//\n",
              "//      http://www.apache.org/licenses/LICENSE-2.0\n",
              "//\n",
              "// Unless required by applicable law or agreed to in writing, software\n",
              "// distributed under the License is distributed on an \"AS IS\" BASIS,\n",
              "// WITHOUT WARRANTIES OR CONDITIONS OF ANY KIND, either express or implied.\n",
              "// See the License for the specific language governing permissions and\n",
              "// limitations under the License.\n",
              "\n",
              "/**\n",
              " * @fileoverview Helpers for google.colab Python module.\n",
              " */\n",
              "(function(scope) {\n",
              "function span(text, styleAttributes = {}) {\n",
              "  const element = document.createElement('span');\n",
              "  element.textContent = text;\n",
              "  for (const key of Object.keys(styleAttributes)) {\n",
              "    element.style[key] = styleAttributes[key];\n",
              "  }\n",
              "  return element;\n",
              "}\n",
              "\n",
              "// Max number of bytes which will be uploaded at a time.\n",
              "const MAX_PAYLOAD_SIZE = 100 * 1024;\n",
              "\n",
              "function _uploadFiles(inputId, outputId) {\n",
              "  const steps = uploadFilesStep(inputId, outputId);\n",
              "  const outputElement = document.getElementById(outputId);\n",
              "  // Cache steps on the outputElement to make it available for the next call\n",
              "  // to uploadFilesContinue from Python.\n",
              "  outputElement.steps = steps;\n",
              "\n",
              "  return _uploadFilesContinue(outputId);\n",
              "}\n",
              "\n",
              "// This is roughly an async generator (not supported in the browser yet),\n",
              "// where there are multiple asynchronous steps and the Python side is going\n",
              "// to poll for completion of each step.\n",
              "// This uses a Promise to block the python side on completion of each step,\n",
              "// then passes the result of the previous step as the input to the next step.\n",
              "function _uploadFilesContinue(outputId) {\n",
              "  const outputElement = document.getElementById(outputId);\n",
              "  const steps = outputElement.steps;\n",
              "\n",
              "  const next = steps.next(outputElement.lastPromiseValue);\n",
              "  return Promise.resolve(next.value.promise).then((value) => {\n",
              "    // Cache the last promise value to make it available to the next\n",
              "    // step of the generator.\n",
              "    outputElement.lastPromiseValue = value;\n",
              "    return next.value.response;\n",
              "  });\n",
              "}\n",
              "\n",
              "/**\n",
              " * Generator function which is called between each async step of the upload\n",
              " * process.\n",
              " * @param {string} inputId Element ID of the input file picker element.\n",
              " * @param {string} outputId Element ID of the output display.\n",
              " * @return {!Iterable<!Object>} Iterable of next steps.\n",
              " */\n",
              "function* uploadFilesStep(inputId, outputId) {\n",
              "  const inputElement = document.getElementById(inputId);\n",
              "  inputElement.disabled = false;\n",
              "\n",
              "  const outputElement = document.getElementById(outputId);\n",
              "  outputElement.innerHTML = '';\n",
              "\n",
              "  const pickedPromise = new Promise((resolve) => {\n",
              "    inputElement.addEventListener('change', (e) => {\n",
              "      resolve(e.target.files);\n",
              "    });\n",
              "  });\n",
              "\n",
              "  const cancel = document.createElement('button');\n",
              "  inputElement.parentElement.appendChild(cancel);\n",
              "  cancel.textContent = 'Cancel upload';\n",
              "  const cancelPromise = new Promise((resolve) => {\n",
              "    cancel.onclick = () => {\n",
              "      resolve(null);\n",
              "    };\n",
              "  });\n",
              "\n",
              "  // Wait for the user to pick the files.\n",
              "  const files = yield {\n",
              "    promise: Promise.race([pickedPromise, cancelPromise]),\n",
              "    response: {\n",
              "      action: 'starting',\n",
              "    }\n",
              "  };\n",
              "\n",
              "  cancel.remove();\n",
              "\n",
              "  // Disable the input element since further picks are not allowed.\n",
              "  inputElement.disabled = true;\n",
              "\n",
              "  if (!files) {\n",
              "    return {\n",
              "      response: {\n",
              "        action: 'complete',\n",
              "      }\n",
              "    };\n",
              "  }\n",
              "\n",
              "  for (const file of files) {\n",
              "    const li = document.createElement('li');\n",
              "    li.append(span(file.name, {fontWeight: 'bold'}));\n",
              "    li.append(span(\n",
              "        `(${file.type || 'n/a'}) - ${file.size} bytes, ` +\n",
              "        `last modified: ${\n",
              "            file.lastModifiedDate ? file.lastModifiedDate.toLocaleDateString() :\n",
              "                                    'n/a'} - `));\n",
              "    const percent = span('0% done');\n",
              "    li.appendChild(percent);\n",
              "\n",
              "    outputElement.appendChild(li);\n",
              "\n",
              "    const fileDataPromise = new Promise((resolve) => {\n",
              "      const reader = new FileReader();\n",
              "      reader.onload = (e) => {\n",
              "        resolve(e.target.result);\n",
              "      };\n",
              "      reader.readAsArrayBuffer(file);\n",
              "    });\n",
              "    // Wait for the data to be ready.\n",
              "    let fileData = yield {\n",
              "      promise: fileDataPromise,\n",
              "      response: {\n",
              "        action: 'continue',\n",
              "      }\n",
              "    };\n",
              "\n",
              "    // Use a chunked sending to avoid message size limits. See b/62115660.\n",
              "    let position = 0;\n",
              "    do {\n",
              "      const length = Math.min(fileData.byteLength - position, MAX_PAYLOAD_SIZE);\n",
              "      const chunk = new Uint8Array(fileData, position, length);\n",
              "      position += length;\n",
              "\n",
              "      const base64 = btoa(String.fromCharCode.apply(null, chunk));\n",
              "      yield {\n",
              "        response: {\n",
              "          action: 'append',\n",
              "          file: file.name,\n",
              "          data: base64,\n",
              "        },\n",
              "      };\n",
              "\n",
              "      let percentDone = fileData.byteLength === 0 ?\n",
              "          100 :\n",
              "          Math.round((position / fileData.byteLength) * 100);\n",
              "      percent.textContent = `${percentDone}% done`;\n",
              "\n",
              "    } while (position < fileData.byteLength);\n",
              "  }\n",
              "\n",
              "  // All done.\n",
              "  yield {\n",
              "    response: {\n",
              "      action: 'complete',\n",
              "    }\n",
              "  };\n",
              "}\n",
              "\n",
              "scope.google = scope.google || {};\n",
              "scope.google.colab = scope.google.colab || {};\n",
              "scope.google.colab._files = {\n",
              "  _uploadFiles,\n",
              "  _uploadFilesContinue,\n",
              "};\n",
              "})(self);\n",
              "</script> "
            ]
          },
          "metadata": {}
        },
        {
          "output_type": "stream",
          "name": "stdout",
          "text": [
            "Saving .env to .env\n",
            ".env successfully loaded\n",
            "API Key loaded correctly.\n"
          ]
        }
      ]
    },
    {
      "cell_type": "markdown",
      "source": [
        "This part of the code clones the GitHub repository containing the required files for the GLMP process. The `base_path` is defined to specify the directory where these files are stored (`src/files`) within the cloned repository, ensuring seamless access to the necessary resources."
      ],
      "metadata": {
        "id": "WlixAF4EEwbe"
      }
    },
    {
      "cell_type": "code",
      "source": [
        "# Cloning the repository from GitHub\n",
        "!git clone https://github.com/jaredgs93/AutomatedGLMP.git\n",
        "\n",
        "# Define the base project path of the files\n",
        "base_path = \"/content/AutomatedGLMP/src/files/skills\""
      ],
      "metadata": {
        "colab": {
          "base_uri": "https://localhost:8080/"
        },
        "id": "rm47Ulfs-0VB",
        "outputId": "69ed2287-b28e-4457-c8d4-412ac500459b"
      },
      "execution_count": null,
      "outputs": [
        {
          "output_type": "stream",
          "name": "stdout",
          "text": [
            "Cloning into 'AutomatedGLMP'...\n",
            "remote: Enumerating objects: 15, done.\u001b[K\n",
            "remote: Counting objects: 100% (15/15), done.\u001b[K\n",
            "remote: Compressing objects: 100% (11/11), done.\u001b[K\n",
            "remote: Total 15 (delta 1), reused 14 (delta 0), pack-reused 0 (from 0)\u001b[K\n",
            "Receiving objects: 100% (15/15), 4.76 KiB | 4.76 MiB/s, done.\n",
            "Resolving deltas: 100% (1/1), done.\n"
          ]
        }
      ]
    },
    {
      "cell_type": "markdown",
      "source": [
        "The OpenAI client is initialized with the API key retrieved from the `.env` file. The `json` library is imported to manage structured data, such as API responses."
      ],
      "metadata": {
        "id": "a3MKz3uGpAk9"
      }
    },
    {
      "cell_type": "code",
      "source": [
        "from openai import OpenAI\n",
        "client = OpenAI(api_key = config('OPENAI_API_KEY'))\n",
        "import json"
      ],
      "metadata": {
        "id": "1vWQi9hlpGJM"
      },
      "execution_count": null,
      "outputs": []
    },
    {
      "cell_type": "markdown",
      "source": [
        "The `prompt.txt` file is opened and read to retrieve the foundational description of GLMP generation. It includes the measures catalog, the structure for first-order perception mappings (1PMs), and guidelines for constructing hierarchical granularity and aggregation functions. This information is important for implementing the GLMP process accurately."
      ],
      "metadata": {
        "id": "N7ZddWHupl8O"
      }
    },
    {
      "cell_type": "code",
      "source": [
        "with open(os.path.join(base_path, \"prompt.txt\"), \"r\",  encoding=\"utf8\") as f:\n",
        "    prompt = f.read()\n",
        "print(prompt)"
      ],
      "metadata": {
        "colab": {
          "base_uri": "https://localhost:8080/"
        },
        "id": "t0A_Kpb6pwJo",
        "outputId": "0fd6c963-4601-4870-a170-36b499fbd2a5"
      },
      "execution_count": null,
      "outputs": [
        {
          "output_type": "stream",
          "name": "stdout",
          "text": [
            "Multimodal video analysis allows text, audio and video to be extracted to detect certain human features. This is made possible by various machine learning techniques.\n",
            "\n",
            "A set of measures has been defined for each modality, which is shown below. The measures are applicable to videos of up to 3 minutes where a person records him/herself looking at the camera and delivering a speech on a specific topic:\n",
            "\n",
            "Audio measures:\n",
            "\n",
            "    1) Noise: Audio detection of specific sequences or types of sequences (clearing). Proportion of noise in speech Scale [0,1].\n",
            "    2) Fluency: Number of breaks and interruptions.\n",
            "    3) Mood: Detection if reading (1), a normal tone (2) or a ‘passionate’ tone (3).\n",
            "    4) Voice uniformity: In addition to considering the ‘mood’, it is corrected with respect to the mean fundamental frequency.\n",
            "    5) Articulation: Syllables per second.\n",
            "    6) Constancy: Absence of hesitation, pauses of longer duration, in the voice during speech. Ratio of pause time to total time. Scale [0-10].\n",
            "    7) Reaction time: Time it takes to make the decision or start talking (in seconds).\n",
            "\n",
            "Text measures:\n",
            "\n",
            "    1) Appropriateness to the topic: Importance within the text of the topics related to the theme of the questions (Scale 0-10).\n",
            "    2) Congruence: Does not mix extraneous topics. Similarity between the contents included in the discourse (Scale 0-10).\n",
            "    3) Concreteness: Number of argumentative, reinforcing or concretising language markers per minute related to the number of topics covered.\n",
            "    4) Density: Number of topics covered during the speech. Logarithmic scale adapted to [0-10].\n",
            "    5) Adjectives: Number of adjectives accompanying the explanation per minute.\n",
            "    6) Examples: It’s a value between 0 and 10. It is obtained with min(10, examples*10/20)\n",
            "    7) Crutches: Number of crutches used in the text (per min)\n",
            "    8) Order: Detection of discourse structuring markers and analysis of their type and order (beginning, knot, conclusion) (Scale 0-10).\n",
            "    9) Expression: Calculated with (0.4* concreteness) + (0.2*examples) + (0.1* mood weight)+ (0.3* Appropriateness to the subject)\n",
            "    10) Organization: Use of speech connectors (normalised per minute) (Scale 0-10)\n",
            "    11) Originality: The use of specific and unusual vocabulary is measured. Ratio of words used that are not frequently used.\n",
            "    12) No redundancy: Identification of word repetition. Value on a scale of 0 to 10 indicating the lack of redundancy in the discourse.\n",
            "    13) Respect: Appropriate language. Detect greetings and farewells. (Scale 0-10)\n",
            "    14) Verb tense: % of verbs expressed in the present tense out of the total number of verbs in the discourse (Scale 0-10).\n",
            "    15) Vagueness: ambiguous terms in expression (per minute)\n",
            "    16) Quantity: Number of issues addressed in the context\n",
            "    17) Topic relevance: Value on a scale from 0 to 100 indicating the relevance of the topics mentioned by the speaker with respect to the topic to be evaluated.\n",
            "    18) Different topics: Indicate how many of the topics mentioned by the speaker do not belong to the topic to be evaluated.\n",
            "\n",
            "Video measures:\n",
            "\n",
            "    1) Postural changes: Changes in posture that are related to the position of the face. Number of movements per minute (horizontal, vertical, focus) (Scale 0-10)\n",
            "    2) Gestures: Positive, negative and stress expressions are measured (10 - Ratio of negative expressions + Ratio of positive expressions) (Scale 0-10). \n",
            "    3) Gaze: Detection of whether the gaze is focused or furtive. Ratio of focused gaze to total gaze (Scale 0-10).\n",
            "    4) Blinking: Blink rate as an indicator of nervousness. Number of blinks per minute (limited to 10).\n",
            "    5) Smile: Proportion of frames in which the smile gesture is detected.\n",
            "\n",
            "These  lay the foundation for more complex representation of human behaviour through the granular linguistic model of a phenomenon (GLMP), where the  are first-order perception mappings (1PMs). \n",
            "\n",
            "Your task is as follows: You will receive two JSON files as input:\n",
            "    1) Measures catalogue results of a video evaluated 2.\n",
            "    2) Part of a GLMP of a behaviour to be represented.\n",
            "\n",
            "From the measures obtained, you will complete the entire GLMP by constructing the different levels of granularity, where the 1 PMs must be strictly from the measures catalogue, as well as making the corresponding inferences associated with the aggregation functions.\n",
            "\n",
            "The constituent elements of the JSON are delineated as follows:\n",
            "    1) figure: Represents the phenomenon or concept being modeled.\n",
            "    2) inputs: In the case of first-order PMs, it is a numerical value defined in the domain.Otherwise, from second-order PMs, it is a list that contains child nodes or input elements contributing to the parent concept. These inputs are organized recursively to reflect the hierarchical nature of the GLMP. \n",
            "    3) output: Specifies the resulting value for the figure, including:\n",
            "        a) value: A numerical output representing the computed result.\n",
            "        b) linguistic_expressions: Qualitative labels such as low, medium, and high that describe states of the phenomenon.\n",
            "        c) validity_degrees: Membership degrees for each linguistic expression, representing the degree to which the output fits each label.\n",
            "    3) aggregation_function: Describes how input elements are combined to produce the output. It includes:\n",
            "        a) type: Defines the method of aggregation, such as 'membership function' (only for 1 PMs), rules, Choquet Integral...\n",
            "        b) details: Provides additional information, such as the specific rules or formulas used.\n",
            "            I) source: Exclusive for first-order PMs. It indicates how the input was obtained (measure).\n",
            "            II) rules: It is a list of the specific rules and each rule is a string. The specific structure is IF input1[value_input1] AND/OR/NOT input2[value_input2] AND/OR/NOT input3[value_input3]  THEN consequent[consequent_value] \n",
            "        c) universe: Defines the universe of discourse (range of values that the variable can take). For example, if it has the value [0, 10, 0.01], the range is 0 to 10 with increments of 0.01.\n",
            "        c) fuzzy_sets: Parameters that define membership functions for linguistic terms like low, medium, and high. Each fuzzy sets includes the next elements:\n",
            "            I) type: Indicates the type of membership function, which may be one of the following but is not limited to: dsigmf, gauss2mf, gaussmf, gbellmf, piecemf, pimf, psigmf, sigmf, smf, trapmf, trimf\n",
            "            II) fuzzy_set_params: Specifies the parameters required for the chosen membership function. These parameters are specific to each function and determine its shape. \n",
            "    4) template: Contains a natural language template used for generating textual outputs based on the computed results.\n",
            "\n",
            "Considerations:\n",
            "    1) If the figure receives more than three entries, use a different aggregation method than rules.\n",
            "    2) The rule set must be fully defined.\n",
            "    3) All required values must be inferred.\n",
            "    4) You can define as many levels of granularity as you consider necessary. At least, three levels.\n",
            "    5) The 1 PMs must include the real input values.\n",
            "    6) From 2 PM onwards, each PM must have at least 2 input PMs.\n",
            "    7) The JSON must have the correct structure and must be validated.\n"
          ]
        }
      ]
    },
    {
      "cell_type": "markdown",
      "source": [
        "The `measures.json` file is loaded and parsed into a Python dictionary. This file contains a detailed set of metrics related to multimodal video analysis, such as audio, text, and video measures. These metrics include attributes like noise, fluency, mood, articulation, topic relevance, gaze, and emotions. The structured data will be used to populate the first-order perception mappings (1PMs) of the GLMP, forming the foundation for subsequent inferences and aggregations."
      ],
      "metadata": {
        "id": "l4fqszVurBXH"
      }
    },
    {
      "cell_type": "code",
      "source": [
        "with open(os.path.join(base_path, \"measures.json\"), \"r\") as f:\n",
        "    metrics = json.load(f)\n",
        "metrics"
      ],
      "metadata": {
        "colab": {
          "base_uri": "https://localhost:8080/"
        },
        "id": "CmvxqUi8rFn1",
        "outputId": "567f8cbe-0f8a-4acc-9d31-887df4844764"
      },
      "execution_count": null,
      "outputs": [
        {
          "output_type": "execute_result",
          "data": {
            "text/plain": [
              "{'topic': 'machine learning',\n",
              " 'duration (secs)': 77.85,\n",
              " 'noise': 0.0,\n",
              " 'fluency': 12,\n",
              " 'mood': 'Passionately',\n",
              " 'mood_weight': 10,\n",
              " 'voice_uniformity': 5.9,\n",
              " 'articulation': 5.95,\n",
              " 'constancy': 10.0,\n",
              " 'reaction_time': 0.9,\n",
              " 'appropriateness_to_the_topic': 10.0,\n",
              " 'congruence': 7.56,\n",
              " 'concretion': 7.31,\n",
              " 'adjectives': 10.0,\n",
              " 'example': 5,\n",
              " 'crutches': 0.77,\n",
              " 'order': 3,\n",
              " 'expression': 7.93,\n",
              " 'organization': 6.92,\n",
              " 'originality': 8.0,\n",
              " 'no_redundancy': 6,\n",
              " 'respect': 0,\n",
              " 'verbal_tense': 2.0,\n",
              " 'vagueness': 0.0,\n",
              " 'quantity': 7.0,\n",
              " 'relevance_topics': 95,\n",
              " 'different_topics': 3,\n",
              " 'vocabulary': 4.93,\n",
              " 'ideas': 10,\n",
              " 'postural_changes': 0.44,\n",
              " 'gaze': 9.35,\n",
              " 'blinking': 1.54,\n",
              " 'smile': 0.0,\n",
              " 'gesture': 5.0,\n",
              " 'negative_emotion': 5.0,\n",
              " 'positive_emotion': 5.0,\n",
              " 'stress_emotion': 5.0,\n",
              " 'mirada_furtiva': 0.65,\n",
              " 'non_verbal_language': 8.5}"
            ]
          },
          "metadata": {},
          "execution_count": 6
        }
      ]
    },
    {
      "cell_type": "markdown",
      "source": [
        "The `decision_making_base.txt` file is loaded and read as a string. This file contains the incomplete structure of a GLMP, where \"decision_making\" is the phenomenon being represented. The file is kept as a .txt to prevent errors that could occur when loading incomplete JSON files. This base can be adapted for other phenomena as needed and serves as the starting point for constructing a complete GLMP by populating its inputs, outputs, aggregation functions, and templates."
      ],
      "metadata": {
        "id": "SNZVK0k4te07"
      }
    },
    {
      "cell_type": "code",
      "source": [
        "with open(os.path.join(base_path, \"decision_making_base.txt\"), \"r\") as f:\n",
        "    glmp_base = f.read()\n",
        "print(glmp_base)"
      ],
      "metadata": {
        "colab": {
          "base_uri": "https://localhost:8080/"
        },
        "id": "noEjtfzHtkjv",
        "outputId": "076d654a-ed0a-4589-aecd-0ad8280cb4e4"
      },
      "execution_count": null,
      "outputs": [
        {
          "output_type": "stream",
          "name": "stdout",
          "text": [
            "{\n",
            "  \"figure\": \"decision_making\",\n",
            "  \"inputs\": [\n",
            "    \n",
            "    \n",
            "  ],\n",
            "  \"output\": {\n",
            "    \"value\": ,\n",
            "    \"linguistic_expressions\": [\n",
            "     \n",
            "    ],\n",
            "    \"validity_degrees\": [\n",
            "     \n",
            "    ]\n",
            "  },\n",
            "  \"aggregation_function\": {\n",
            "    \"type\": \"\",\n",
            "    \"details\": {\n",
            "     \n",
            "    },\n",
            "    \"universe\": [\n",
            "      \n",
            "    ],\n",
            "    \"fuzzy_sets\": [\n",
            "    ]\n",
            "  },\n",
            "  \"template\": \"\"\n",
            "}\n"
          ]
        }
      ]
    },
    {
      "cell_type": "markdown",
      "source": [
        "The prompt is augmented with two JSON objects:\n",
        "\n",
        "1. JSON 1: Contains the metrics parsed from the `measures.json` file.\n",
        "2. JSON 2: Represents the incomplete GLMP structure loaded from the `decision_making_base.txt` file.\n",
        "These are concatenated to provide the context required by the OpenAI API. Using the `o1-mini` model, the prompt is sent as part of a `chat.completions.create` request. The API will process the provided data, make inferences, and generate a response that completes the GLMP based on the given inputs and guidelines."
      ],
      "metadata": {
        "id": "2ls-UrDkt0Rg"
      }
    },
    {
      "cell_type": "code",
      "source": [
        "prompt += \"\\n\\n JSON 1: \" + json.dumps(metrics) + \"\\n\\n JSON 2: \" + glmp_base\n",
        "\n",
        "\n",
        "response = client.chat.completions.create(\n",
        "    model=\"o1-mini\",\n",
        "    messages=[\n",
        "        {\n",
        "            \"role\": \"user\",\n",
        "            \"content\": prompt\n",
        "        }\n",
        "    ]\n",
        ")\n"
      ],
      "metadata": {
        "id": "eUwjm24buJGZ"
      },
      "execution_count": null,
      "outputs": []
    },
    {
      "cell_type": "markdown",
      "source": [
        "Save the content from the response in a .txt file"
      ],
      "metadata": {
        "id": "kOl9s_xDBMUk"
      }
    },
    {
      "cell_type": "code",
      "source": [
        "with open(\"response.txt\", \"w\", encoding=\"utf8\") as f:\n",
        "    f.write(response.choices[0].message.content)\n",
        "\n",
        "print(response.choices[0].message.content)"
      ],
      "metadata": {
        "colab": {
          "base_uri": "https://localhost:8080/"
        },
        "id": "45X800ppBKsX",
        "outputId": "129a6c79-8233-4dd9-89c8-47867178439e"
      },
      "execution_count": null,
      "outputs": [
        {
          "output_type": "stream",
          "name": "stdout",
          "text": [
            "Certainly! Below is the completed JSON for the **Granular Linguistic Model of a Phenomenon (GLMP)** for the figure `\"decision_making\"`. This JSON incorporates multiple levels of granularity, starting from the first-order perception mappings (1PMs) derived directly from the measures catalogue provided in **JSON 1**. The model includes three levels of granularity, appropriate aggregation functions, fuzzy sets, and a natural language template for generating textual outputs.\n",
            "\n",
            "```json\n",
            "{\n",
            "  \"figure\": \"decision_making\",\n",
            "  \"inputs\": [\n",
            "    {\n",
            "      \"figure\": \"Emotional_Intelligence\",\n",
            "      \"inputs\": [\n",
            "        {\n",
            "          \"figure\": \"Mood_Weight\",\n",
            "          \"inputs\": [],\n",
            "          \"output\": {\n",
            "            \"value\": 10.0,\n",
            "            \"linguistic_expressions\": [\"high\"],\n",
            "            \"validity_degrees\": {\n",
            "              \"low\": 0.0,\n",
            "              \"medium\": 0.0,\n",
            "              \"high\": 1.0\n",
            "            }\n",
            "          },\n",
            "          \"aggregation_function\": {\n",
            "            \"type\": \"membership function\",\n",
            "            \"details\": {\n",
            "              \"source\": \"mood_weight\"\n",
            "            },\n",
            "            \"universe\": [0, 10, 0.01],\n",
            "            \"fuzzy_sets\": [\n",
            "              {\n",
            "                \"type\": \"trimf\",\n",
            "                \"name\": \"low\",\n",
            "                \"fuzzy_set_params\": [0, 0, 5]\n",
            "              },\n",
            "              {\n",
            "                \"type\": \"trimf\",\n",
            "                \"name\": \"medium\",\n",
            "                \"fuzzy_set_params\": [0, 5, 10]\n",
            "              },\n",
            "              {\n",
            "                \"type\": \"trimf\",\n",
            "                \"name\": \"high\",\n",
            "                \"fuzzy_set_params\": [5, 10, 10]\n",
            "              }\n",
            "            ]\n",
            "          },\n",
            "          \"template\": \"The mood weight is {value} indicating a {linguistic_expressions} emotional state.\"\n",
            "        },\n",
            "        {\n",
            "          \"figure\": \"Non_Verbal_Language\",\n",
            "          \"inputs\": [],\n",
            "          \"output\": {\n",
            "            \"value\": 8.5,\n",
            "            \"linguistic_expressions\": [\"high\"],\n",
            "            \"validity_degrees\": {\n",
            "              \"low\": 0.0,\n",
            "              \"medium\": 0.2,\n",
            "              \"high\": 0.8\n",
            "            }\n",
            "          },\n",
            "          \"aggregation_function\": {\n",
            "            \"type\": \"membership function\",\n",
            "            \"details\": {\n",
            "              \"source\": \"non_verbal_language\"\n",
            "            },\n",
            "            \"universe\": [0, 10, 0.01],\n",
            "            \"fuzzy_sets\": [\n",
            "              {\n",
            "                \"type\": \"trimf\",\n",
            "                \"name\": \"low\",\n",
            "                \"fuzzy_set_params\": [0, 0, 5]\n",
            "              },\n",
            "              {\n",
            "                \"type\": \"trimf\",\n",
            "                \"name\": \"medium\",\n",
            "                \"fuzzy_set_params\": [0, 5, 10]\n",
            "              },\n",
            "              {\n",
            "                \"type\": \"trimf\",\n",
            "                \"name\": \"high\",\n",
            "                \"fuzzy_set_params\": [5, 10, 10]\n",
            "              }\n",
            "            ]\n",
            "          },\n",
            "          \"template\": \"Non-verbal language score is {value}, reflecting a {linguistic_expressions} proficiency.\"\n",
            "        }\n",
            "      ],\n",
            "      \"output\": {\n",
            "        \"value\": 9.25,\n",
            "        \"linguistic_expressions\": [\"high\"],\n",
            "        \"validity_degrees\": {\n",
            "          \"low\": 0.0,\n",
            "          \"medium\": 0.3,\n",
            "          \"high\": 0.7\n",
            "        }\n",
            "      },\n",
            "      \"aggregation_function\": {\n",
            "        \"type\": \"linear weighted average\",\n",
            "        \"details\": {\n",
            "          \"weights\": {\n",
            "            \"Mood_Weight\": 0.6,\n",
            "            \"Non_Verbal_Language\": 0.4\n",
            "          }\n",
            "        },\n",
            "        \"universe\": [0, 10, 0.01],\n",
            "        \"fuzzy_sets\": [\n",
            "          {\n",
            "            \"type\": \"trimf\",\n",
            "            \"name\": \"low\",\n",
            "            \"fuzzy_set_params\": [0, 0, 5]\n",
            "          },\n",
            "          {\n",
            "            \"type\": \"trimf\",\n",
            "            \"name\": \"medium\",\n",
            "            \"fuzzy_set_params\": [0, 5, 10]\n",
            "          },\n",
            "          {\n",
            "            \"type\": \"trimf\",\n",
            "            \"name\": \"high\",\n",
            "            \"fuzzy_set_params\": [5, 10, 10]\n",
            "          }\n",
            "        ]\n",
            "      },\n",
            "      \"template\": \"Emotional Intelligence is assessed at {value}, indicating a {linguistic_expressions} level.\"\n",
            "    },\n",
            "    {\n",
            "      \"figure\": \"Cognitive_Efficiency\",\n",
            "      \"inputs\": [\n",
            "        {\n",
            "          \"figure\": \"Reaction_Time\",\n",
            "          \"inputs\": [],\n",
            "          \"output\": {\n",
            "            \"value\": 0.9,\n",
            "            \"linguistic_expressions\": [\"low\"],\n",
            "            \"validity_degrees\": {\n",
            "              \"low\": 1.0,\n",
            "              \"medium\": 0.0,\n",
            "              \"high\": 0.0\n",
            "            }\n",
            "          },\n",
            "          \"aggregation_function\": {\n",
            "            \"type\": \"membership function\",\n",
            "            \"details\": {\n",
            "              \"source\": \"reaction_time\"\n",
            "            },\n",
            "            \"universe\": [0, 10, 0.01],\n",
            "            \"fuzzy_sets\": [\n",
            "              {\n",
            "                \"type\": \"trimf\",\n",
            "                \"name\": \"low\",\n",
            "                \"fuzzy_set_params\": [0, 0, 5]\n",
            "              },\n",
            "              {\n",
            "                \"type\": \"trimf\",\n",
            "                \"name\": \"medium\",\n",
            "                \"fuzzy_set_params\": [0, 5, 10]\n",
            "              },\n",
            "              {\n",
            "                \"type\": \"trimf\",\n",
            "                \"name\": \"high\",\n",
            "                \"fuzzy_set_params\": [5, 10, 10]\n",
            "              }\n",
            "            ]\n",
            "          },\n",
            "          \"template\": \"Reaction time is {value} seconds, categorized as {linguistic_expressions}.\"\n",
            "        },\n",
            "        {\n",
            "          \"figure\": \"Fluency\",\n",
            "          \"inputs\": [],\n",
            "          \"output\": {\n",
            "            \"value\": 12,\n",
            "            \"linguistic_expressions\": [\"high\"],\n",
            "            \"validity_degrees\": {\n",
            "              \"low\": 0.0,\n",
            "              \"medium\": 0.2,\n",
            "              \"high\": 0.8\n",
            "            }\n",
            "          },\n",
            "          \"aggregation_function\": {\n",
            "            \"type\": \"membership function\",\n",
            "            \"details\": {\n",
            "              \"source\": \"fluency\"\n",
            "            },\n",
            "            \"universe\": [0, 20, 0.01],\n",
            "            \"fuzzy_sets\": [\n",
            "              {\n",
            "                \"type\": \"trimf\",\n",
            "                \"name\": \"low\",\n",
            "                \"fuzzy_set_params\": [0, 0, 10]\n",
            "              },\n",
            "              {\n",
            "                \"type\": \"trimf\",\n",
            "                \"name\": \"medium\",\n",
            "                \"fuzzy_set_params\": [5, 10, 15]\n",
            "              },\n",
            "              {\n",
            "                \"type\": \"trimf\",\n",
            "                \"name\": \"high\",\n",
            "                \"fuzzy_set_params\": [10, 20, 20]\n",
            "              }\n",
            "            ]\n",
            "          },\n",
            "          \"template\": \"Fluency score is {value} breaks per minute, indicating {linguistic_expressions} fluency.\"\n",
            "        }\n",
            "      ],\n",
            "      \"output\": {\n",
            "        \"value\": 6.9,\n",
            "        \"linguistic_expressions\": [\"medium\"],\n",
            "        \"validity_degrees\": {\n",
            "          \"low\": 0.0,\n",
            "          \"medium\": 1.0,\n",
            "          \"high\": 0.0\n",
            "        }\n",
            "      },\n",
            "      \"aggregation_function\": {\n",
            "        \"type\": \"rules\",\n",
            "        \"details\": {\n",
            "          \"rules\": [\n",
            "            \"IF Reaction_Time is low AND Fluency is high THEN Cognitive_Efficiency is high\",\n",
            "            \"IF Reaction_Time is low AND Fluency is medium THEN Cognitive_Efficiency is medium\",\n",
            "            \"IF Reaction_Time is low AND Fluency is low THEN Cognitive_Efficiency is low\",\n",
            "            \"IF Reaction_Time is medium AND Fluency is high THEN Cognitive_Efficiency is medium\",\n",
            "            \"IF Reaction_Time is medium AND Fluency is medium THEN Cognitive_Efficiency is low\",\n",
            "            \"IF Reaction_Time is medium AND Fluency is low THEN Cognitive_Efficiency is low\",\n",
            "            \"IF Reaction_Time is high AND Fluency is high THEN Cognitive_Efficiency is low\",\n",
            "            \"IF Reaction_Time is high AND Fluency is medium THEN Cognitive_Efficiency is low\",\n",
            "            \"IF Reaction_Time is high AND Fluency is low THEN Cognitive_Efficiency is low\"\n",
            "          ]\n",
            "        },\n",
            "        \"universe\": [0, 10, 0.01],\n",
            "        \"fuzzy_sets\": [\n",
            "          {\n",
            "            \"type\": \"trimf\",\n",
            "            \"name\": \"low\",\n",
            "            \"fuzzy_set_params\": [0, 0, 5]\n",
            "          },\n",
            "          {\n",
            "            \"type\": \"trimf\",\n",
            "            \"name\": \"medium\",\n",
            "            \"fuzzy_set_params\": [0, 5, 10]\n",
            "          },\n",
            "          {\n",
            "            \"type\": \"trimf\",\n",
            "            \"name\": \"high\",\n",
            "            \"fuzzy_set_params\": [5, 10, 10]\n",
            "          }\n",
            "        ]\n",
            "      },\n",
            "      \"template\": \"Cognitive Efficiency is rated at {value}, which is considered {linguistic_expressions}.\"\n",
            "    }\n",
            "  ],\n",
            "  \"output\": {\n",
            "    \"value\": 8.58,\n",
            "    \"linguistic_expressions\": [\"high\"],\n",
            "    \"validity_degrees\": {\n",
            "      \"low\": 0.0,\n",
            "      \"medium\": 0.2,\n",
            "      \"high\": 0.8\n",
            "    }\n",
            "  },\n",
            "  \"aggregation_function\": {\n",
            "    \"type\": \"weighted sum\",\n",
            "    \"details\": {\n",
            "      \"weights\": {\n",
            "        \"Emotional_Intelligence\": 0.6,\n",
            "        \"Cognitive_Efficiency\": 0.4\n",
            "      }\n",
            "    },\n",
            "    \"universe\": [0, 10, 0.01],\n",
            "    \"fuzzy_sets\": [\n",
            "      {\n",
            "        \"type\": \"trimf\",\n",
            "        \"name\": \"low\",\n",
            "        \"fuzzy_set_params\": [0, 0, 5]\n",
            "      },\n",
            "      {\n",
            "        \"type\": \"trimf\",\n",
            "        \"name\": \"medium\",\n",
            "        \"fuzzy_set_params\": [0, 5, 10]\n",
            "      },\n",
            "      {\n",
            "        \"type\": \"trimf\",\n",
            "        \"name\": \"high\",\n",
            "        \"fuzzy_set_params\": [5, 10, 10]\n",
            "      }\n",
            "    ]\n",
            "  },\n",
            "  \"template\": \"Decision Making is evaluated at {value}, categorized as {linguistic_expressions} performance.\"\n",
            "}\n",
            "```\n",
            "\n",
            "### **Explanation of the GLMP Structure:**\n",
            "\n",
            "1. **Levels of Granularity:**\n",
            "   - **Level 1 (First-Order PMs):** These are directly mapped from the measures in **JSON 1**.\n",
            "     - **Mood_Weight:** Derived from the `mood_weight` measure with a value of `10.0`.\n",
            "     - **Non_Verbal_Language:** Derived from the `non_verbal_language` measure with a value of `8.5`.\n",
            "     - **Reaction_Time:** Derived from the `reaction_time` measure with a value of `0.9`.\n",
            "     - **Fluency:** Derived from the `fluency` measure with a value of `12`.\n",
            "   \n",
            "   - **Level 2 (Second-Order PMs):** These aggregate the first-order PMs.\n",
            "     - **Emotional_Intelligence:** Aggregates `Mood_Weight` and `Non_Verbal_Language`.\n",
            "     - **Cognitive_Efficiency:** Aggregates `Reaction_Time` and `Fluency`.\n",
            "   \n",
            "   - **Level 3 (Third-Order PM):** \n",
            "     - **Decision_Making:** Aggregates `Emotional_Intelligence` and `Cognitive_Efficiency`.\n",
            "\n",
            "2. **Aggregation Functions:**\n",
            "   - **First-Order PMs:** Utilize **membership functions** (`trimf`) to categorize the raw input values into linguistic expressions (`low`, `medium`, `high`).\n",
            "   - **Second-Order PMs:**\n",
            "     - **Emotional_Intelligence:** Uses a **linear weighted average** to combine `Mood_Weight` (60%) and `Non_Verbal_Language` (40%).\n",
            "     - **Cognitive_Efficiency:** Uses **rules** to determine the outcome based on `Reaction_Time` and `Fluency`.\n",
            "   - **Third-Order PM (Decision_Making):** Uses a **weighted sum** to combine `Emotional_Intelligence` (60%) and `Cognitive_Efficiency` (40%).\n",
            "\n",
            "3. **Fuzzy Sets:**\n",
            "   - Each PM defines fuzzy sets (`low`, `medium`, `high`) using triangular membership functions (`trimf`) with specific parameters to determine the degree of membership based on the input values.\n",
            "\n",
            "4. **Outputs:**\n",
            "   - Each PM computes a numerical `value`, assigns `linguistic_expressions`, and defines `validity_degrees` indicating the degree to which the value belongs to each linguistic category.\n",
            "   \n",
            "5. **Templates:**\n",
            "   - Natural language templates are provided at each PM level to generate descriptive textual outputs based on the computed values and linguistic expressions.\n",
            "\n",
            "### **Key Considerations:**\n",
            "\n",
            "- **Hierarchical Structure:** The model ensures at least three levels of granularity with each higher-level PM aggregating at least two lower-level PMs.\n",
            "  \n",
            "- **Aggregation Methods:** \n",
            "  - For PMs with more than three inputs, different aggregation methods are employed (e.g., **weighted sum** instead of **rules**).\n",
            "\n",
            "- **Fuzzy Logic:** Membership functions are used to handle the uncertainty and variability in the input measures, allowing the model to make nuanced inferences about `decision_making`.\n",
            "\n",
            "- **Validity Degrees:** These indicate the confidence in each linguistic expression, providing a nuanced understanding of the PM's status.\n",
            "\n",
            "- **Templates:** Facilitate the generation of human-readable reports or insights based on the model's computations.\n",
            "\n",
            "### **Usage Example:**\n",
            "\n",
            "Using the provided template for `decision_making`, the system can generate a statement like:\n",
            "\n",
            "> \"Decision Making is evaluated at 8.58, categorized as high performance.\"\n",
            "\n",
            "This output integrates the aggregated information from both `Emotional_Intelligence` and `Cognitive_Efficiency` to provide a comprehensive assessment of the decision-making behavior.\n"
          ]
        }
      ]
    },
    {
      "cell_type": "markdown",
      "source": [
        "The JSON object generated by the API is extracted by splitting the response text, isolating the raw JSON content for further use."
      ],
      "metadata": {
        "id": "pEVyvt1Uu5jw"
      }
    },
    {
      "cell_type": "code",
      "execution_count": null,
      "metadata": {
        "colab": {
          "base_uri": "https://localhost:8080/"
        },
        "id": "OtiVBZ1mJcPy",
        "outputId": "3a15caf4-a00a-4875-98d9-2342ea38589b"
      },
      "outputs": [
        {
          "output_type": "stream",
          "name": "stdout",
          "text": [
            "JSON successfully saved in generated_glmp.json\n"
          ]
        }
      ],
      "source": [
        "json_str = response.choices[0].message.content.split(\"```json\")[1].split(\"```\")[0]\n",
        "glmp_json = json.loads(json_str)\n",
        "\n",
        "output_file = \"generated_glmp.json\"\n",
        "with open(output_file, \"w\", encoding=\"utf8\") as f:\n",
        "    json.dump(glmp_json, f, ensure_ascii=False, indent=4)\n",
        "\n",
        "print(f\"JSON successfully saved in {output_file}\")\n"
      ]
    },
    {
      "cell_type": "markdown",
      "source": [
        "## Visualization of structure"
      ],
      "metadata": {
        "id": "SmNUHloalhho"
      }
    },
    {
      "cell_type": "markdown",
      "source": [
        "This section focuses on visualizing the hierarchical structure of the GLMP. A directed graph is generated, where nodes represent the components of the model, and edges point from children to their parent nodes. The graph is displayed with an intuitive layout, highlighting the relationships within the GLMP."
      ],
      "metadata": {
        "id": "DIP53OsR8FFm"
      }
    },
    {
      "cell_type": "markdown",
      "source": [
        "The following imports are used:\n",
        "\n",
        "1. `networkx`: For creating, analyzing, and manipulating graphs and networks.\n",
        "2. `matplotlib.pyplot`: For plotting and visualizing the graphs.\n",
        "3. `graphviz_layout` (from `networkx.drawing.nx_pydot`): For generating hierarchical layouts using Graphviz, ideal for structured graph representations."
      ],
      "metadata": {
        "id": "Y1XNm_Nk1Xa5"
      }
    },
    {
      "cell_type": "code",
      "source": [
        "import networkx as nx\n",
        "import matplotlib.pyplot as plt\n",
        "from networkx.drawing.nx_pydot import graphviz_layout"
      ],
      "metadata": {
        "id": "Kt6KoMHv1FRv"
      },
      "execution_count": null,
      "outputs": []
    },
    {
      "cell_type": "markdown",
      "source": [
        "The `build_glmp_upward_edges` function recursively traverses a GLMP structure to build a directed graph with upward-pointing edges (child to parent). Key steps include:\n",
        "\n",
        "1. Node Addition: Nodes are added for elements with a `figure` key.\n",
        "2. Edge Creation: For each node, an edge is added from the child to the parent, creating an upward flow in the graph.\n",
        "3. Recursive Traversal: For each child in the `inputs` list, the function is called recursively, treating the current node as the parent.\n",
        "4. Omission of Non-Figure Nodes: Numeric leaves (e.g., nodes with only a `value` key) are skipped to focus on figure-based nodes.\n",
        "This function is essential for constructing the hierarchical structure of the GLMP as a directed graph."
      ],
      "metadata": {
        "id": "eQXIImjT1utQ"
      }
    },
    {
      "cell_type": "code",
      "source": [
        "def build_glmp_upward_edges(glmp_node, graph, parent=None):\n",
        "    \"\"\"\n",
        "    Recursively traverse the GLMP, adding figure-based nodes only,\n",
        "    with edges from child -> parent (arrow pointing upward).\n",
        "    Numeric leaves (e.g. { 'value': 0.9 }) are omitted.\n",
        "    \"\"\"\n",
        "    figure_name = glmp_node.get(\"figure\")\n",
        "    if not figure_name:\n",
        "        # Skip if there's no figure (probably just a numeric 'value' leaf)\n",
        "        return\n",
        "\n",
        "    # Add the node if it doesn't exist yet\n",
        "    graph.add_node(figure_name)\n",
        "\n",
        "    # If we have a parent, add an edge from child (this figure) -> parent\n",
        "    # so the arrow will point upward to the higher-level node\n",
        "    if parent is not None:\n",
        "        graph.add_edge(figure_name, parent)\n",
        "\n",
        "    # Recurse over each child in \"inputs\"\n",
        "    for child in glmp_node.get(\"inputs\", []):\n",
        "        if isinstance(child, dict) and \"figure\" in child:\n",
        "            # Child is another sub-node: pass current as 'parent'\n",
        "            build_glmp_upward_edges(child, graph, parent=figure_name)\n",
        "        # else if child is just {\"value\": ...}, omit it"
      ],
      "metadata": {
        "id": "8-n6TfmT1IgM"
      },
      "execution_count": null,
      "outputs": []
    },
    {
      "cell_type": "markdown",
      "source": [
        "The `plot_glmp_upward` function visualizes a GLMP as a directed graph with hierarchical structure. Key steps include:\n",
        "\n",
        "1. Graph Creation: Initializes a directed graph (`DiGraph`) with edges pointing upward (child to parent).\n",
        "2. Hierarchy Layout: Configures Graphviz to rank nodes from bottom to top (`rankdir: BT`) for a clear hierarchical representation.\n",
        "3. Node and Edge Construction: Calls `build_glmp_upward_edges` to traverse the GLMP data and construct the graph.\n",
        "4. Graphviz Layout: Uses `graphviz_layout` with the \"dot\" algorithm to position nodes in a structured hierarchy.\n",
        "5. Visualization: Draws the graph using `matplotlib`, with customizable node size, color, and labels."
      ],
      "metadata": {
        "id": "rl3Ga3d42NMD"
      }
    },
    {
      "cell_type": "code",
      "source": [
        "def plot_glmp_upward(glmp_data, title=\"Decision Making GLMP\"):\n",
        "    \"\"\"\n",
        "    Build a hierarchy where the root is at the top,\n",
        "    but edges point upward from children to parents.\n",
        "    \"\"\"\n",
        "    # Create directed graph\n",
        "    G = nx.DiGraph()\n",
        "    # Tell Graphviz to rank from Bottom to Top\n",
        "    G.graph[\"graph\"] = {\"rankdir\": \"BT\"}\n",
        "\n",
        "    # Build the upward‐pointing hierarchy\n",
        "    build_glmp_upward_edges(glmp_data, G)\n",
        "\n",
        "    # Use graphviz_layout with 'dot' to get a hierarchical layout\n",
        "    pos = graphviz_layout(G, prog=\"dot\")\n",
        "\n",
        "    # Draw\n",
        "    plt.figure(figsize=(8, 6))\n",
        "    nx.draw(\n",
        "        G, pos,\n",
        "        with_labels=True,\n",
        "        node_color=\"lightblue\",\n",
        "        node_size=2000,\n",
        "        arrowsize=20,\n",
        "        font_size=6\n",
        "    )\n",
        "    plt.title(title)\n",
        "    plt.axis(\"off\")\n",
        "    plt.show()"
      ],
      "metadata": {
        "id": "ptS-NRVi2G9t"
      },
      "execution_count": null,
      "outputs": []
    },
    {
      "cell_type": "markdown",
      "source": [
        "The GLMP structure display is generated as a network."
      ],
      "metadata": {
        "id": "swuYJyt_GXT7"
      }
    },
    {
      "cell_type": "code",
      "source": [
        "if __name__ == \"__main__\":\n",
        "    plot_glmp_upward(glmp_json)"
      ],
      "metadata": {
        "colab": {
          "base_uri": "https://localhost:8080/",
          "height": 659
        },
        "id": "T3AC28Z1wGb5",
        "outputId": "82898fbf-1bbb-40db-823a-a40e4cc9d141"
      },
      "execution_count": null,
      "outputs": [
        {
          "output_type": "display_data",
          "data": {
            "text/plain": [
              "<Figure size 800x600 with 1 Axes>"
            ],
            "image/png": "[encoded data removed]"
          },
          "metadata": {}
        }
      ]
    }
  ]
}